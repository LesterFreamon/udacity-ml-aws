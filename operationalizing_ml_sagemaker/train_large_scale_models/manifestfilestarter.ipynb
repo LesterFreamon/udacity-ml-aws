{
 "cells": [
  {
   "cell_type": "markdown",
   "metadata": {},
   "source": [
    "## Amazon Lookout for Vision Lab\n",
    "\n",
    "To help you learn about creating a model, Amazon Lookout for Vision provides example images of circuit boards (circuit_board) that you can use. These images are taken from https://docs.aws.amazon.com/lookout-for-vision/latest/developer-guide/su-prepare-example-images.html.\n",
    "\n",
    "### Environmental variables\n",
    "\n",
    "In a very first step we want to define the two global variables needed for this notebook:\n",
    "\n",
    "- bucket: the S3 bucket that you will create and then use as your source for Amazon Lookout for Vision\n",
    "    - Note: Please read the comments carefully. Depending on your region you need to uncomment the correct command\n",
    "- project: the project name you want to use in Amazon Lookout for Vision"
   ]
  },
  {
   "cell_type": "code",
   "execution_count": 1,
   "metadata": {},
   "outputs": [
    {
     "name": "stdout",
     "output_type": "stream",
     "text": [
      "<botocore.client.SageMaker object at 0x7f23c4650df0>\n"
     ]
    }
   ],
   "source": [
    "import os\n",
    "import boto3\n",
    "\n",
    "bucket = \"udacity-ml-aws-large-dist-models\"\n",
    "project = \"circuitproject\"\n",
    "os.environ[\"BUCKET\"] = bucket\n",
    "os.environ[\"REGION\"] = boto3.session.Session().region_name\n",
    "\n",
    "#client = boto3.client('lookoutvision')\n",
    "client=boto3.Session().client('sagemaker')\n",
    "print(client)"
   ]
  },
  {
   "cell_type": "markdown",
   "metadata": {},
   "source": [
    "You can check your region here with:"
   ]
  },
  {
   "cell_type": "code",
   "execution_count": 2,
   "metadata": {},
   "outputs": [
    {
     "name": "stdout",
     "output_type": "stream",
     "text": [
      "us-east-2\n"
     ]
    }
   ],
   "source": [
    "# Check your region:\n",
    "print(boto3.session.Session().region_name)"
   ]
  },
  {
   "cell_type": "markdown",
   "metadata": {},
   "source": [
    "Depending on your region follow the instructions of the next cell:"
   ]
  },
  {
   "cell_type": "markdown",
   "metadata": {},
   "source": [
    "## Image Preparation and EDA\n",
    "\n",
    "In Amazon Lookout for Vision - see also\n",
    "- https://aws.amazon.com/lookout-for-vision/ and\n",
    "- https://aws.amazon.com/blogs/aws/amazon-lookout-for-vision-new-machine-learning-service-that-simplifies-defect-detection-for-manufacturing/\n",
    "if you already have pre-labeled images available, as it is the case in this example, you can already establish a folder structure that lets you define training and validation. Further, images are labeled for Amazon Lookout via the corresponding folder (normal=good, anomaly=bad).\n",
    "\n",
    "We will import the sample images provided by AWS Lookout of Vision. If you're importing your own images, you will prepare them at this stage."
   ]
  },
  {
   "cell_type": "markdown",
   "metadata": {},
   "source": [
    "### Generate the *manifest* files\n",
    "\n",
    "You might be familiar with the manifest files if you ever used Amazon SageMaker Ground Truth. If you are not don't worry about that section too much.\n",
    "\n",
    "If you are still interested in what's happening, you can continue reading:\n",
    "\n",
    "Each dataset training/ as well as validation/ needs a manifest file. This file is used by Amazon Lookout for Vision to determine where to look for the images. The manifest follows a fixed structure. Most importantly are the keys (it's JSON formatted) *source-ref* this is the location for each file, *auto-label* the value for each label (0=bad, 1=good), *folder* which indicates whether Amazon Lookout is using training or validation and *creation-date* as this let's you know when an image was put in place. All other fields are pre-set for you.\n",
    "\n",
    "Each manifest file itself contains N JSON objects, where N is the number of images that are used in this dataset."
   ]
  },
  {
   "cell_type": "code",
   "execution_count": 3,
   "metadata": {},
   "outputs": [
    {
     "name": "stdout",
     "output_type": "stream",
     "text": [
      "1\n",
      "2\n",
      "3\n",
      "4\n",
      "5\n",
      "6\n",
      "7\n",
      "8\n",
      "9\n",
      "10\n",
      "11\n",
      "12\n",
      "13\n",
      "14\n",
      "15\n",
      "16\n",
      "17\n",
      "18\n",
      "19\n",
      "20\n",
      "1\n",
      "2\n",
      "3\n",
      "4\n",
      "5\n",
      "6\n",
      "7\n",
      "8\n",
      "9\n",
      "10\n",
      "11\n",
      "12\n",
      "13\n",
      "14\n",
      "15\n",
      "16\n",
      "17\n",
      "18\n",
      "19\n",
      "20\n",
      "1\n",
      "2\n",
      "3\n",
      "4\n",
      "5\n",
      "6\n",
      "7\n",
      "8\n",
      "9\n",
      "10\n",
      "11\n",
      "12\n",
      "13\n",
      "14\n",
      "15\n",
      "16\n",
      "17\n",
      "18\n",
      "19\n",
      "20\n",
      "1\n",
      "2\n",
      "3\n",
      "4\n",
      "5\n",
      "6\n",
      "7\n",
      "8\n",
      "9\n",
      "10\n",
      "11\n",
      "12\n",
      "13\n",
      "14\n",
      "15\n",
      "16\n",
      "17\n",
      "18\n",
      "19\n",
      "20\n"
     ]
    }
   ],
   "source": [
    "# Datetime for datetime generation and json to dump the JSON object\n",
    "# to the corresponding files:\n",
    "from datetime import datetime\n",
    "import json\n",
    "\n",
    "# Current date and time in manifest file format:\n",
    "now = datetime.now()\n",
    "dttm = now.strftime(\"%Y-%m-%dT%H:%M:%S.%f\")\n",
    "\n",
    "# The two datasets used: train and test\n",
    "datasets = [\"train\", \"test\"]\n",
    "\n",
    "# For each dataset...\n",
    "for ds in datasets:\n",
    "    # ...list the folder available (normal or anomaly).\n",
    "    #print(ds)\n",
    "    folders = os.listdir(\"./circuitboard/{}\".format(ds))\n",
    "    # Then open the manifest file for this dataset...\n",
    "    with open(\"{}.manifest\".format(ds), \"w\") as f:\n",
    "        for folder in folders:\n",
    "            filecount=0\n",
    "            #print(folder)\n",
    "            # ...and iterate through both folders by first listing\n",
    "            # the corresponding files and setting the appropriate label\n",
    "            # (as noted above: 1 = good, 0 = bad):\n",
    "            files = os.listdir(\"./circuitboard/{}/{}\".format(ds, folder))\n",
    "            label = 1\n",
    "            if folder == \"anomaly\":\n",
    "                label = 0\n",
    "            # For each file in the folder...\n",
    "            for file in files:\n",
    "                filecount+=1\n",
    "                print(filecount)\n",
    "                # Uncomment the following two lines to use the entire dataset\n",
    "                if filecount>20:\n",
    "                    break\n",
    "                # ...generate a manifest JSON object and save it to the manifest\n",
    "                # file. Don't forget to add '/n' to generate a new line:\n",
    "                manifest = {\n",
    "                  \"source-ref\": \"s3://{}/{}/{}/{}/{}\".format(bucket,project, ds, folder, file),\n",
    "                  \"auto-label\": label,\n",
    "                  \"auto-label-metadata\": {\n",
    "                    \"confidence\": 1,\n",
    "                    \"job-name\": \"labeling-job/auto-label\",\n",
    "                    \"class-name\": folder,\n",
    "                    \"human-annotated\": \"yes\",\n",
    "                    \"creation-date\": dttm,\n",
    "                    \"type\": \"groundtruth/image-classification\"\n",
    "                  }\n",
    "                }\n",
    "                f.write(json.dumps(manifest)+\"\\n\")"
   ]
  },
  {
   "cell_type": "markdown",
   "metadata": {},
   "source": [
    "### Upload manifest files and images to S3\n",
    "\n",
    "Now it's time to upload all the images and the manifest files:"
   ]
  },
  {
   "cell_type": "code",
   "execution_count": 4,
   "metadata": {},
   "outputs": [
    {
     "name": "stdout",
     "output_type": "stream",
     "text": [
      "upload: ./train.manifest to s3://udacity-ml-aws-large-dist-models/circuitproject/train.manifest\n",
      "upload: ./test.manifest to s3://udacity-ml-aws-large-dist-models/circuitproject/test.manifest\n"
     ]
    }
   ],
   "source": [
    "# Upload manifest files to S3 bucket:\n",
    "!aws s3 cp train.manifest s3://{bucket}/{project}/train.manifest\n",
    "!aws s3 cp test.manifest s3://{bucket}/{project}/test.manifest"
   ]
  },
  {
   "cell_type": "code",
   "execution_count": 5,
   "metadata": {
    "scrolled": true
   },
   "outputs": [
    {
     "name": "stdout",
     "output_type": "stream",
     "text": [
      "upload: circuitboard/train/normal/train-normal_1.jpg to s3://udacity-ml-aws-large-dist-models/circuitproject/train/normal/train-normal_1.jpg\n",
      "upload: circuitboard/train/normal/train-normal_16.jpg to s3://udacity-ml-aws-large-dist-models/circuitproject/train/normal/train-normal_16.jpg\n",
      "upload: circuitboard/train/normal/train-normal_15.jpg to s3://udacity-ml-aws-large-dist-models/circuitproject/train/normal/train-normal_15.jpg\n",
      "upload: circuitboard/train/normal/train-normal_14.jpg to s3://udacity-ml-aws-large-dist-models/circuitproject/train/normal/train-normal_14.jpg\n",
      "upload: circuitboard/train/normal/train-normal_17.jpg to s3://udacity-ml-aws-large-dist-models/circuitproject/train/normal/train-normal_17.jpg\n",
      "upload: circuitboard/train/normal/train-normal_11.jpg to s3://udacity-ml-aws-large-dist-models/circuitproject/train/normal/train-normal_11.jpg\n",
      "upload: circuitboard/train/normal/train-normal_13.jpg to s3://udacity-ml-aws-large-dist-models/circuitproject/train/normal/train-normal_13.jpg\n",
      "upload: circuitboard/train/normal/train-normal_18.jpg to s3://udacity-ml-aws-large-dist-models/circuitproject/train/normal/train-normal_18.jpg\n",
      "upload: circuitboard/train/normal/train-normal_19.jpg to s3://udacity-ml-aws-large-dist-models/circuitproject/train/normal/train-normal_19.jpg\n",
      "upload: circuitboard/train/normal/train-normal_10.jpg to s3://udacity-ml-aws-large-dist-models/circuitproject/train/normal/train-normal_10.jpg\n",
      "upload: circuitboard/train/normal/train-normal_12.jpg to s3://udacity-ml-aws-large-dist-models/circuitproject/train/normal/train-normal_12.jpg\n",
      "upload: circuitboard/train/normal/train-normal_2.jpg to s3://udacity-ml-aws-large-dist-models/circuitproject/train/normal/train-normal_2.jpg\n",
      "upload: circuitboard/train/normal/train-normal_4.jpg to s3://udacity-ml-aws-large-dist-models/circuitproject/train/normal/train-normal_4.jpg\n",
      "upload: circuitboard/train/normal/train-normal_6.jpg to s3://udacity-ml-aws-large-dist-models/circuitproject/train/normal/train-normal_6.jpg\n",
      "upload: circuitboard/train/normal/train-normal_20.jpg to s3://udacity-ml-aws-large-dist-models/circuitproject/train/normal/train-normal_20.jpg\n",
      "upload: circuitboard/train/normal/train-normal_7.jpg to s3://udacity-ml-aws-large-dist-models/circuitproject/train/normal/train-normal_7.jpg\n",
      "upload: circuitboard/train/normal/train-normal_5.jpg to s3://udacity-ml-aws-large-dist-models/circuitproject/train/normal/train-normal_5.jpg\n",
      "upload: circuitboard/train/normal/train-normal_3.jpg to s3://udacity-ml-aws-large-dist-models/circuitproject/train/normal/train-normal_3.jpg\n",
      "upload: circuitboard/train/normal/train-normal_8.jpg to s3://udacity-ml-aws-large-dist-models/circuitproject/train/normal/train-normal_8.jpg\n",
      "upload: circuitboard/train/normal/train-normal_9.jpg to s3://udacity-ml-aws-large-dist-models/circuitproject/train/normal/train-normal_9.jpg\n",
      "upload: circuitboard/train/anomaly/train-anomaly_12.jpg to s3://udacity-ml-aws-large-dist-models/circuitproject/train/anomaly/train-anomaly_12.jpg\n",
      "upload: circuitboard/train/anomaly/train-anomaly_18.jpg to s3://udacity-ml-aws-large-dist-models/circuitproject/train/anomaly/train-anomaly_18.jpg\n",
      "upload: circuitboard/train/anomaly/train-anomaly_11.jpg to s3://udacity-ml-aws-large-dist-models/circuitproject/train/anomaly/train-anomaly_11.jpg\n",
      "upload: circuitboard/train/anomaly/train-anomaly_15.jpg to s3://udacity-ml-aws-large-dist-models/circuitproject/train/anomaly/train-anomaly_15.jpg\n",
      "upload: circuitboard/train/anomaly/train-anomaly_10.jpg to s3://udacity-ml-aws-large-dist-models/circuitproject/train/anomaly/train-anomaly_10.jpg\n",
      "upload: circuitboard/train/anomaly/train-anomaly_14.jpg to s3://udacity-ml-aws-large-dist-models/circuitproject/train/anomaly/train-anomaly_14.jpg\n",
      "upload: circuitboard/train/anomaly/train-anomaly_16.jpg to s3://udacity-ml-aws-large-dist-models/circuitproject/train/anomaly/train-anomaly_16.jpg\n",
      "upload: circuitboard/train/anomaly/train-anomaly_1.jpg to s3://udacity-ml-aws-large-dist-models/circuitproject/train/anomaly/train-anomaly_1.jpg\n",
      "upload: circuitboard/train/anomaly/train-anomaly_17.jpg to s3://udacity-ml-aws-large-dist-models/circuitproject/train/anomaly/train-anomaly_17.jpg\n",
      "upload: circuitboard/train/anomaly/train-anomaly_13.jpg to s3://udacity-ml-aws-large-dist-models/circuitproject/train/anomaly/train-anomaly_13.jpg\n",
      "upload: circuitboard/train/anomaly/train-anomaly_19.jpg to s3://udacity-ml-aws-large-dist-models/circuitproject/train/anomaly/train-anomaly_19.jpg\n",
      "upload: circuitboard/train/anomaly/train-anomaly_2.jpg to s3://udacity-ml-aws-large-dist-models/circuitproject/train/anomaly/train-anomaly_2.jpg\n",
      "upload: circuitboard/train/anomaly/train-anomaly_4.jpg to s3://udacity-ml-aws-large-dist-models/circuitproject/train/anomaly/train-anomaly_4.jpg\n",
      "upload: circuitboard/train/anomaly/train-anomaly_3.jpg to s3://udacity-ml-aws-large-dist-models/circuitproject/train/anomaly/train-anomaly_3.jpg\n",
      "upload: circuitboard/train/anomaly/train-anomaly_5.jpg to s3://udacity-ml-aws-large-dist-models/circuitproject/train/anomaly/train-anomaly_5.jpg\n",
      "upload: circuitboard/train/anomaly/train-anomaly_20.jpg to s3://udacity-ml-aws-large-dist-models/circuitproject/train/anomaly/train-anomaly_20.jpg\n",
      "upload: circuitboard/train/anomaly/train-anomaly_9.jpg to s3://udacity-ml-aws-large-dist-models/circuitproject/train/anomaly/train-anomaly_9.jpg\n",
      "upload: circuitboard/train/anomaly/train-anomaly_8.jpg to s3://udacity-ml-aws-large-dist-models/circuitproject/train/anomaly/train-anomaly_8.jpg\n",
      "upload: circuitboard/train/anomaly/train-anomaly_7.jpg to s3://udacity-ml-aws-large-dist-models/circuitproject/train/anomaly/train-anomaly_7.jpg\n",
      "upload: circuitboard/train/anomaly/train-anomaly_6.jpg to s3://udacity-ml-aws-large-dist-models/circuitproject/train/anomaly/train-anomaly_6.jpg\n",
      "upload: circuitboard/test/normal/test-normal_12.jpg to s3://udacity-ml-aws-large-dist-models/circuitproject/test/normal/test-normal_12.jpg\n",
      "upload: circuitboard/test/normal/test-normal_11.jpg to s3://udacity-ml-aws-large-dist-models/circuitproject/test/normal/test-normal_11.jpg\n",
      "upload: circuitboard/test/normal/test-normal_10.jpg to s3://udacity-ml-aws-large-dist-models/circuitproject/test/normal/test-normal_10.jpg\n",
      "upload: circuitboard/test/normal/test-normal_1.jpg to s3://udacity-ml-aws-large-dist-models/circuitproject/test/normal/test-normal_1.jpg\n",
      "upload: circuitboard/test/normal/test-normal_18.jpg to s3://udacity-ml-aws-large-dist-models/circuitproject/test/normal/test-normal_18.jpg\n",
      "upload: circuitboard/test/normal/test-normal_16.jpg to s3://udacity-ml-aws-large-dist-models/circuitproject/test/normal/test-normal_16.jpg\n",
      "upload: circuitboard/test/normal/test-normal_17.jpg to s3://udacity-ml-aws-large-dist-models/circuitproject/test/normal/test-normal_17.jpg\n",
      "upload: circuitboard/test/normal/test-normal_13.jpg to s3://udacity-ml-aws-large-dist-models/circuitproject/test/normal/test-normal_13.jpg\n",
      "upload: circuitboard/test/normal/test-normal_14.jpg to s3://udacity-ml-aws-large-dist-models/circuitproject/test/normal/test-normal_14.jpg\n",
      "upload: circuitboard/test/normal/test-normal_15.jpg to s3://udacity-ml-aws-large-dist-models/circuitproject/test/normal/test-normal_15.jpg\n",
      "upload: circuitboard/test/normal/test-normal_19.jpg to s3://udacity-ml-aws-large-dist-models/circuitproject/test/normal/test-normal_19.jpg\n",
      "upload: circuitboard/test/normal/test-normal_20.jpg to s3://udacity-ml-aws-large-dist-models/circuitproject/test/normal/test-normal_20.jpg\n",
      "upload: circuitboard/test/normal/test-normal_2.jpg to s3://udacity-ml-aws-large-dist-models/circuitproject/test/normal/test-normal_2.jpg\n",
      "upload: circuitboard/test/normal/test-normal_7.jpg to s3://udacity-ml-aws-large-dist-models/circuitproject/test/normal/test-normal_7.jpg\n",
      "upload: circuitboard/test/normal/test-normal_4.jpg to s3://udacity-ml-aws-large-dist-models/circuitproject/test/normal/test-normal_4.jpg\n",
      "upload: circuitboard/test/normal/test-normal_3.jpg to s3://udacity-ml-aws-large-dist-models/circuitproject/test/normal/test-normal_3.jpg\n",
      "upload: circuitboard/test/normal/test-normal_6.jpg to s3://udacity-ml-aws-large-dist-models/circuitproject/test/normal/test-normal_6.jpg\n",
      "upload: circuitboard/test/normal/test-normal_5.jpg to s3://udacity-ml-aws-large-dist-models/circuitproject/test/normal/test-normal_5.jpg\n",
      "upload: circuitboard/test/normal/test-normal_8.jpg to s3://udacity-ml-aws-large-dist-models/circuitproject/test/normal/test-normal_8.jpg\n",
      "upload: circuitboard/test/normal/test-normal_9.jpg to s3://udacity-ml-aws-large-dist-models/circuitproject/test/normal/test-normal_9.jpg\n",
      "upload: circuitboard/test/anomaly/test-anomaly_11.jpg to s3://udacity-ml-aws-large-dist-models/circuitproject/test/anomaly/test-anomaly_11.jpg\n",
      "upload: circuitboard/test/anomaly/test-anomaly_10.jpg to s3://udacity-ml-aws-large-dist-models/circuitproject/test/anomaly/test-anomaly_10.jpg\n",
      "upload: circuitboard/test/anomaly/test-anomaly_14.jpg to s3://udacity-ml-aws-large-dist-models/circuitproject/test/anomaly/test-anomaly_14.jpg\n",
      "upload: circuitboard/test/anomaly/test-anomaly_12.jpg to s3://udacity-ml-aws-large-dist-models/circuitproject/test/anomaly/test-anomaly_12.jpg\n",
      "upload: circuitboard/test/anomaly/test-anomaly_1.jpg to s3://udacity-ml-aws-large-dist-models/circuitproject/test/anomaly/test-anomaly_1.jpg\n",
      "upload: circuitboard/test/anomaly/test-anomaly_15.jpg to s3://udacity-ml-aws-large-dist-models/circuitproject/test/anomaly/test-anomaly_15.jpg\n",
      "upload: circuitboard/test/anomaly/test-anomaly_18.jpg to s3://udacity-ml-aws-large-dist-models/circuitproject/test/anomaly/test-anomaly_18.jpg\n",
      "upload: circuitboard/test/anomaly/test-anomaly_13.jpg to s3://udacity-ml-aws-large-dist-models/circuitproject/test/anomaly/test-anomaly_13.jpg\n",
      "upload: circuitboard/test/anomaly/test-anomaly_16.jpg to s3://udacity-ml-aws-large-dist-models/circuitproject/test/anomaly/test-anomaly_16.jpg\n",
      "upload: circuitboard/test/anomaly/test-anomaly_17.jpg to s3://udacity-ml-aws-large-dist-models/circuitproject/test/anomaly/test-anomaly_17.jpg\n",
      "upload: circuitboard/test/anomaly/test-anomaly_19.jpg to s3://udacity-ml-aws-large-dist-models/circuitproject/test/anomaly/test-anomaly_19.jpg\n",
      "upload: circuitboard/test/anomaly/test-anomaly_2.jpg to s3://udacity-ml-aws-large-dist-models/circuitproject/test/anomaly/test-anomaly_2.jpg\n",
      "upload: circuitboard/test/anomaly/test-anomaly_3.jpg to s3://udacity-ml-aws-large-dist-models/circuitproject/test/anomaly/test-anomaly_3.jpg\n",
      "upload: circuitboard/test/anomaly/test-anomaly_20.jpg to s3://udacity-ml-aws-large-dist-models/circuitproject/test/anomaly/test-anomaly_20.jpg\n",
      "upload: circuitboard/test/anomaly/test-anomaly_7.jpg to s3://udacity-ml-aws-large-dist-models/circuitproject/test/anomaly/test-anomaly_7.jpg\n",
      "upload: circuitboard/test/anomaly/test-anomaly_4.jpg to s3://udacity-ml-aws-large-dist-models/circuitproject/test/anomaly/test-anomaly_4.jpg\n",
      "upload: circuitboard/test/anomaly/test-anomaly_6.jpg to s3://udacity-ml-aws-large-dist-models/circuitproject/test/anomaly/test-anomaly_6.jpg\n",
      "upload: circuitboard/test/anomaly/test-anomaly_9.jpg to s3://udacity-ml-aws-large-dist-models/circuitproject/test/anomaly/test-anomaly_9.jpg\n",
      "upload: circuitboard/test/anomaly/test-anomaly_5.jpg to s3://udacity-ml-aws-large-dist-models/circuitproject/test/anomaly/test-anomaly_5.jpg\n",
      "upload: circuitboard/test/anomaly/test-anomaly_8.jpg to s3://udacity-ml-aws-large-dist-models/circuitproject/test/anomaly/test-anomaly_8.jpg\n"
     ]
    }
   ],
   "source": [
    "# Upload images to S3 bucket:\n",
    "!aws s3 cp circuitboard/train/normal s3://{bucket}/{project}/train/normal --recursive\n",
    "!aws s3 cp circuitboard/train/anomaly s3://{bucket}/{project}/train/anomaly --recursive\n",
    "\n",
    "!aws s3 cp circuitboard/test/normal s3://{bucket}/{project}/test/normal --recursive\n",
    "!aws s3 cp circuitboard/test/anomaly s3://{bucket}/{project}/test/anomaly --recursive"
   ]
  },
  {
   "cell_type": "code",
   "execution_count": 7,
   "metadata": {},
   "outputs": [
    {
     "ename": "TypeError",
     "evalue": "the JSON object must be str, bytes or bytearray, not TextIOWrapper",
     "output_type": "error",
     "traceback": [
      "\u001b[0;31m---------------------------------------------------------------------------\u001b[0m",
      "\u001b[0;31mTypeError\u001b[0m                                 Traceback (most recent call last)",
      "\u001b[1;32m/home/sagemaker-user/udacity-ml-aws/operationalizing_ml_sagemaker/train_large_scale_models/manifestfilestarter.ipynb Cell 12\u001b[0m line \u001b[0;36m4\n\u001b[1;32m      <a href='vscode-notebook-cell://zqzxvuusamsucnu.studio.us-east-2.sagemaker.aws/home/sagemaker-user/udacity-ml-aws/operationalizing_ml_sagemaker/train_large_scale_models/manifestfilestarter.ipynb#X14sdnNjb2RlLXJlbW90ZQ%3D%3D?line=0'>1</a>\u001b[0m \u001b[39mimport\u001b[39;00m \u001b[39mjson\u001b[39;00m\n\u001b[1;32m      <a href='vscode-notebook-cell://zqzxvuusamsucnu.studio.us-east-2.sagemaker.aws/home/sagemaker-user/udacity-ml-aws/operationalizing_ml_sagemaker/train_large_scale_models/manifestfilestarter.ipynb#X14sdnNjb2RlLXJlbW90ZQ%3D%3D?line=2'>3</a>\u001b[0m \u001b[39mwith\u001b[39;00m \u001b[39mopen\u001b[39m(\u001b[39m'\u001b[39m\u001b[39mtrain.manifest\u001b[39m\u001b[39m'\u001b[39m, \u001b[39m'\u001b[39m\u001b[39mr\u001b[39m\u001b[39m'\u001b[39m) \u001b[39mas\u001b[39;00m f:\n\u001b[0;32m----> <a href='vscode-notebook-cell://zqzxvuusamsucnu.studio.us-east-2.sagemaker.aws/home/sagemaker-user/udacity-ml-aws/operationalizing_ml_sagemaker/train_large_scale_models/manifestfilestarter.ipynb#X14sdnNjb2RlLXJlbW90ZQ%3D%3D?line=3'>4</a>\u001b[0m     train_manifest \u001b[39m=\u001b[39m json\u001b[39m.\u001b[39;49mloads(f)\n",
      "File \u001b[0;32m/opt/conda/lib/python3.10/json/__init__.py:339\u001b[0m, in \u001b[0;36mloads\u001b[0;34m(s, cls, object_hook, parse_float, parse_int, parse_constant, object_pairs_hook, **kw)\u001b[0m\n\u001b[1;32m    337\u001b[0m \u001b[39melse\u001b[39;00m:\n\u001b[1;32m    338\u001b[0m     \u001b[39mif\u001b[39;00m \u001b[39mnot\u001b[39;00m \u001b[39misinstance\u001b[39m(s, (\u001b[39mbytes\u001b[39m, \u001b[39mbytearray\u001b[39m)):\n\u001b[0;32m--> 339\u001b[0m         \u001b[39mraise\u001b[39;00m \u001b[39mTypeError\u001b[39;00m(\u001b[39mf\u001b[39m\u001b[39m'\u001b[39m\u001b[39mthe JSON object must be str, bytes or bytearray, \u001b[39m\u001b[39m'\u001b[39m\n\u001b[1;32m    340\u001b[0m                         \u001b[39mf\u001b[39m\u001b[39m'\u001b[39m\u001b[39mnot \u001b[39m\u001b[39m{\u001b[39;00ms\u001b[39m.\u001b[39m\u001b[39m__class__\u001b[39m\u001b[39m.\u001b[39m\u001b[39m__name__\u001b[39m\u001b[39m}\u001b[39;00m\u001b[39m'\u001b[39m)\n\u001b[1;32m    341\u001b[0m     s \u001b[39m=\u001b[39m s\u001b[39m.\u001b[39mdecode(detect_encoding(s), \u001b[39m'\u001b[39m\u001b[39msurrogatepass\u001b[39m\u001b[39m'\u001b[39m)\n\u001b[1;32m    343\u001b[0m \u001b[39mif\u001b[39;00m (\u001b[39mcls\u001b[39m \u001b[39mis\u001b[39;00m \u001b[39mNone\u001b[39;00m \u001b[39mand\u001b[39;00m object_hook \u001b[39mis\u001b[39;00m \u001b[39mNone\u001b[39;00m \u001b[39mand\u001b[39;00m\n\u001b[1;32m    344\u001b[0m         parse_int \u001b[39mis\u001b[39;00m \u001b[39mNone\u001b[39;00m \u001b[39mand\u001b[39;00m parse_float \u001b[39mis\u001b[39;00m \u001b[39mNone\u001b[39;00m \u001b[39mand\u001b[39;00m\n\u001b[1;32m    345\u001b[0m         parse_constant \u001b[39mis\u001b[39;00m \u001b[39mNone\u001b[39;00m \u001b[39mand\u001b[39;00m object_pairs_hook \u001b[39mis\u001b[39;00m \u001b[39mNone\u001b[39;00m \u001b[39mand\u001b[39;00m \u001b[39mnot\u001b[39;00m kw):\n",
      "\u001b[0;31mTypeError\u001b[0m: the JSON object must be str, bytes or bytearray, not TextIOWrapper"
     ]
    }
   ],
   "source": [
    "import json\n",
    "\n",
    "with open('train.manifest', 'r') as f:\n",
    "    train_manifest = json.loads(f)\n",
    "\n"
   ]
  },
  {
   "cell_type": "code",
   "execution_count": null,
   "metadata": {},
   "outputs": [],
   "source": []
  }
 ],
 "metadata": {
  "instance_type": "ml.t3.medium",
  "kernelspec": {
   "display_name": "base",
   "language": "python",
   "name": "python3"
  },
  "language_info": {
   "codemirror_mode": {
    "name": "ipython",
    "version": 3
   },
   "file_extension": ".py",
   "mimetype": "text/x-python",
   "name": "python",
   "nbconvert_exporter": "python",
   "pygments_lexer": "ipython3",
   "version": "3.10.14"
  }
 },
 "nbformat": 4,
 "nbformat_minor": 4
}
