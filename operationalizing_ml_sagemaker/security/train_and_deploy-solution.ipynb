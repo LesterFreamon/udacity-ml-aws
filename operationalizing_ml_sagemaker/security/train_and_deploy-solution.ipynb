{
 "cells": [
  {
   "cell_type": "markdown",
   "metadata": {},
   "source": [
    "<h1>C4 Solution</h1>"
   ]
  },
  {
   "cell_type": "markdown",
   "metadata": {},
   "source": [
    "<h3>Get the data and copy it to S3</h3>"
   ]
  },
  {
   "cell_type": "code",
   "execution_count": null,
   "metadata": {},
   "outputs": [],
   "source": [
    "%%capture\n",
    "!wget https://s3-us-west-1.amazonaws.com/udacity-aind/dog-project/dogImages.zip"
   ]
  },
  {
   "cell_type": "code",
   "execution_count": 2,
   "metadata": {},
   "outputs": [],
   "source": [
    "%%capture\n",
    "!unzip dogImages.zip"
   ]
  },
  {
   "cell_type": "code",
   "execution_count": 3,
   "metadata": {
    "scrolled": true
   },
   "outputs": [],
   "source": [
    "%%capture\n",
    "!aws s3 cp dogImages s3://udacitysolution/ --recursive"
   ]
  },
  {
   "cell_type": "markdown",
   "metadata": {},
   "source": [
    "<h3>Install and import</h3>"
   ]
  },
  {
   "cell_type": "code",
   "execution_count": 2,
   "metadata": {},
   "outputs": [],
   "source": [
    "%%capture\n",
    "!pip install smdebug torch torchvision tqdm"
   ]
  },
  {
   "cell_type": "code",
   "execution_count": 1,
   "metadata": {},
   "outputs": [
    {
     "name": "stdout",
     "output_type": "stream",
     "text": [
      "sagemaker.config INFO - Not applying SDK defaults from location: /etc/xdg/sagemaker/config.yaml\n",
      "sagemaker.config INFO - Not applying SDK defaults from location: /home/sagemaker-user/.config/sagemaker/config.yaml\n"
     ]
    }
   ],
   "source": [
    "import sagemaker\n",
    "import boto3\n",
    "from sagemaker.tuner import CategoricalParameter, ContinuousParameter, HyperparameterTuner\n",
    "from sagemaker.pytorch import PyTorch\n",
    "from sagemaker import get_execution_role\n",
    "from sagemaker.debugger import Rule, DebuggerHookConfig, TensorBoardOutputConfig, CollectionConfig, ProfilerRule, rule_configs\n",
    "from sagemaker.debugger import ProfilerConfig, FrameworkProfile\n",
    "import os"
   ]
  },
  {
   "cell_type": "markdown",
   "metadata": {},
   "source": [
    "<h3>Set up parameters, estimator, and tuner</h3>"
   ]
  },
  {
   "cell_type": "code",
   "execution_count": 2,
   "metadata": {},
   "outputs": [],
   "source": [
    "hyperparameter_ranges = {\n",
    "    \"learning_rate\": ContinuousParameter(0.001, 0.1),\n",
    "    \"batch_size\": CategoricalParameter([32, 64, 128, 256, 512]),\n",
    "}\n",
    "\n",
    "role = sagemaker.get_execution_role()\n",
    "\n",
    "objective_metric_name = \"Test Loss\"\n",
    "objective_type = \"Minimize\"\n",
    "metric_definitions = [{\"Name\": \"Test Loss\", \"Regex\": \"Testing Loss: ([0-9\\\\.]+)\"}]"
   ]
  },
  {
   "cell_type": "code",
   "execution_count": 3,
   "metadata": {},
   "outputs": [],
   "source": [
    "estimator = PyTorch(\n",
    "    entry_point=\"hpo.py\",\n",
    "    base_job_name='pytorch_dog_hpo',\n",
    "    role=role,\n",
    "    framework_version=\"1.4.0\",\n",
    "    instance_count=1,\n",
    "    instance_type=\"ml.m5.xlarge\",\n",
    "    py_version='py3'\n",
    ")\n",
    "\n",
    "tuner = HyperparameterTuner(\n",
    "    estimator,\n",
    "    objective_metric_name,\n",
    "    hyperparameter_ranges,\n",
    "    metric_definitions,\n",
    "    max_jobs=2,\n",
    "    max_parallel_jobs=2,\n",
    "    objective_type=objective_type\n",
    ")"
   ]
  },
  {
   "cell_type": "markdown",
   "metadata": {},
   "source": [
    "<h3>Fit the tuner</h3>"
   ]
  },
  {
   "cell_type": "code",
   "execution_count": 4,
   "metadata": {},
   "outputs": [],
   "source": [
    "bucket_name = 'udacity-ml-aws'\n",
    "folder_name = 'dogImages'"
   ]
  },
  {
   "cell_type": "code",
   "execution_count": 6,
   "metadata": {},
   "outputs": [
    {
     "name": "stdout",
     "output_type": "stream",
     "text": [
      ".........................................................................................................................................................................................................................................................................................................!\n"
     ]
    }
   ],
   "source": [
    "os.environ['SM_CHANNEL_TRAINING']=f's3://{bucket_name}/{folder_name}'\n",
    "os.environ['SM_MODEL_DIR']=f's3://{bucket_name}/{folder_name}/model/'\n",
    "os.environ['SM_OUTPUT_DATA_DIR']=f's3://{bucket_name}/{folder_name}/output/'\n",
    "tuner.fit({\"training\": f\"s3://{bucket_name}/{foler_name}/\"})"
   ]
  },
  {
   "cell_type": "markdown",
   "metadata": {},
   "source": [
    "<h3>Describe the tuning results</h3>\n"
   ]
  },
  {
   "cell_type": "code",
   "execution_count": 7,
   "metadata": {},
   "outputs": [
    {
     "data": {
      "text/html": [
       "<div>\n",
       "<style scoped>\n",
       "    .dataframe tbody tr th:only-of-type {\n",
       "        vertical-align: middle;\n",
       "    }\n",
       "\n",
       "    .dataframe tbody tr th {\n",
       "        vertical-align: top;\n",
       "    }\n",
       "\n",
       "    .dataframe thead th {\n",
       "        text-align: right;\n",
       "    }\n",
       "</style>\n",
       "<table border=\"1\" class=\"dataframe\">\n",
       "  <thead>\n",
       "    <tr style=\"text-align: right;\">\n",
       "      <th></th>\n",
       "      <th>batch_size</th>\n",
       "      <th>dropout_rate</th>\n",
       "      <th>fc_layer_size</th>\n",
       "      <th>learning_rate</th>\n",
       "      <th>optimizer</th>\n",
       "      <th>TrainingJobName</th>\n",
       "      <th>TrainingJobStatus</th>\n",
       "      <th>FinalObjectiveValue</th>\n",
       "      <th>TrainingStartTime</th>\n",
       "      <th>TrainingEndTime</th>\n",
       "      <th>TrainingElapsedTimeSeconds</th>\n",
       "    </tr>\n",
       "  </thead>\n",
       "  <tbody>\n",
       "    <tr>\n",
       "      <th>0</th>\n",
       "      <td>\"128\"</td>\n",
       "      <td>0.500000</td>\n",
       "      <td>\"512\"</td>\n",
       "      <td>0.001000</td>\n",
       "      <td>\"rmsprop\"</td>\n",
       "      <td>pytorch-training-240801-1924-008-3239818c</td>\n",
       "      <td>Completed</td>\n",
       "      <td>77.989998</td>\n",
       "      <td>2024-08-01 19:37:05+00:00</td>\n",
       "      <td>2024-08-01 19:44:45+00:00</td>\n",
       "      <td>460.0</td>\n",
       "    </tr>\n",
       "    <tr>\n",
       "      <th>3</th>\n",
       "      <td>\"64\"</td>\n",
       "      <td>0.491989</td>\n",
       "      <td>\"256\"</td>\n",
       "      <td>0.000840</td>\n",
       "      <td>\"rmsprop\"</td>\n",
       "      <td>pytorch-training-240801-1924-005-cee15837</td>\n",
       "      <td>Completed</td>\n",
       "      <td>76.320000</td>\n",
       "      <td>2024-08-01 19:37:00+00:00</td>\n",
       "      <td>2024-08-01 19:44:40+00:00</td>\n",
       "      <td>460.0</td>\n",
       "    </tr>\n",
       "    <tr>\n",
       "      <th>4</th>\n",
       "      <td>\"128\"</td>\n",
       "      <td>0.495166</td>\n",
       "      <td>\"256\"</td>\n",
       "      <td>0.000510</td>\n",
       "      <td>\"rmsprop\"</td>\n",
       "      <td>pytorch-training-240801-1924-004-a572276c</td>\n",
       "      <td>Completed</td>\n",
       "      <td>73.559998</td>\n",
       "      <td>2024-08-01 19:25:04+00:00</td>\n",
       "      <td>2024-08-01 19:36:02+00:00</td>\n",
       "      <td>658.0</td>\n",
       "    </tr>\n",
       "    <tr>\n",
       "      <th>6</th>\n",
       "      <td>\"128\"</td>\n",
       "      <td>0.420479</td>\n",
       "      <td>\"256\"</td>\n",
       "      <td>0.000330</td>\n",
       "      <td>\"rmsprop\"</td>\n",
       "      <td>pytorch-training-240801-1924-002-d813dd15</td>\n",
       "      <td>Completed</td>\n",
       "      <td>71.769997</td>\n",
       "      <td>2024-08-01 19:24:50+00:00</td>\n",
       "      <td>2024-08-01 19:35:58+00:00</td>\n",
       "      <td>668.0</td>\n",
       "    </tr>\n",
       "    <tr>\n",
       "      <th>2</th>\n",
       "      <td>\"128\"</td>\n",
       "      <td>0.472669</td>\n",
       "      <td>\"512\"</td>\n",
       "      <td>0.000119</td>\n",
       "      <td>\"adam\"</td>\n",
       "      <td>pytorch-training-240801-1924-006-a76a076a</td>\n",
       "      <td>Completed</td>\n",
       "      <td>71.410004</td>\n",
       "      <td>2024-08-01 19:37:03+00:00</td>\n",
       "      <td>2024-08-01 19:44:44+00:00</td>\n",
       "      <td>461.0</td>\n",
       "    </tr>\n",
       "    <tr>\n",
       "      <th>7</th>\n",
       "      <td>\"64\"</td>\n",
       "      <td>0.352767</td>\n",
       "      <td>\"256\"</td>\n",
       "      <td>0.000079</td>\n",
       "      <td>\"rmsprop\"</td>\n",
       "      <td>pytorch-training-240801-1924-001-cd94c0a3</td>\n",
       "      <td>Completed</td>\n",
       "      <td>67.110001</td>\n",
       "      <td>2024-08-01 19:24:53+00:00</td>\n",
       "      <td>2024-08-01 19:35:56+00:00</td>\n",
       "      <td>663.0</td>\n",
       "    </tr>\n",
       "    <tr>\n",
       "      <th>1</th>\n",
       "      <td>\"128\"</td>\n",
       "      <td>0.500000</td>\n",
       "      <td>\"256\"</td>\n",
       "      <td>0.001000</td>\n",
       "      <td>\"rmsprop\"</td>\n",
       "      <td>pytorch-training-240801-1924-007-42fa60cf</td>\n",
       "      <td>Completed</td>\n",
       "      <td>63.279999</td>\n",
       "      <td>2024-08-01 19:37:03+00:00</td>\n",
       "      <td>2024-08-01 19:44:46+00:00</td>\n",
       "      <td>463.0</td>\n",
       "    </tr>\n",
       "    <tr>\n",
       "      <th>5</th>\n",
       "      <td>\"128\"</td>\n",
       "      <td>0.462734</td>\n",
       "      <td>\"256\"</td>\n",
       "      <td>0.000020</td>\n",
       "      <td>\"adam\"</td>\n",
       "      <td>pytorch-training-240801-1924-003-950e7a6c</td>\n",
       "      <td>Completed</td>\n",
       "      <td>22.610001</td>\n",
       "      <td>2024-08-01 19:24:52+00:00</td>\n",
       "      <td>2024-08-01 19:36:04+00:00</td>\n",
       "      <td>672.0</td>\n",
       "    </tr>\n",
       "  </tbody>\n",
       "</table>\n",
       "</div>"
      ],
      "text/plain": [
       "  batch_size  dropout_rate fc_layer_size  learning_rate  optimizer  \\\n",
       "0      \"128\"      0.500000         \"512\"       0.001000  \"rmsprop\"   \n",
       "3       \"64\"      0.491989         \"256\"       0.000840  \"rmsprop\"   \n",
       "4      \"128\"      0.495166         \"256\"       0.000510  \"rmsprop\"   \n",
       "6      \"128\"      0.420479         \"256\"       0.000330  \"rmsprop\"   \n",
       "2      \"128\"      0.472669         \"512\"       0.000119     \"adam\"   \n",
       "7       \"64\"      0.352767         \"256\"       0.000079  \"rmsprop\"   \n",
       "1      \"128\"      0.500000         \"256\"       0.001000  \"rmsprop\"   \n",
       "5      \"128\"      0.462734         \"256\"       0.000020     \"adam\"   \n",
       "\n",
       "                             TrainingJobName TrainingJobStatus  \\\n",
       "0  pytorch-training-240801-1924-008-3239818c         Completed   \n",
       "3  pytorch-training-240801-1924-005-cee15837         Completed   \n",
       "4  pytorch-training-240801-1924-004-a572276c         Completed   \n",
       "6  pytorch-training-240801-1924-002-d813dd15         Completed   \n",
       "2  pytorch-training-240801-1924-006-a76a076a         Completed   \n",
       "7  pytorch-training-240801-1924-001-cd94c0a3         Completed   \n",
       "1  pytorch-training-240801-1924-007-42fa60cf         Completed   \n",
       "5  pytorch-training-240801-1924-003-950e7a6c         Completed   \n",
       "\n",
       "   FinalObjectiveValue         TrainingStartTime           TrainingEndTime  \\\n",
       "0            77.989998 2024-08-01 19:37:05+00:00 2024-08-01 19:44:45+00:00   \n",
       "3            76.320000 2024-08-01 19:37:00+00:00 2024-08-01 19:44:40+00:00   \n",
       "4            73.559998 2024-08-01 19:25:04+00:00 2024-08-01 19:36:02+00:00   \n",
       "6            71.769997 2024-08-01 19:24:50+00:00 2024-08-01 19:35:58+00:00   \n",
       "2            71.410004 2024-08-01 19:37:03+00:00 2024-08-01 19:44:44+00:00   \n",
       "7            67.110001 2024-08-01 19:24:53+00:00 2024-08-01 19:35:56+00:00   \n",
       "1            63.279999 2024-08-01 19:37:03+00:00 2024-08-01 19:44:46+00:00   \n",
       "5            22.610001 2024-08-01 19:24:52+00:00 2024-08-01 19:36:04+00:00   \n",
       "\n",
       "   TrainingElapsedTimeSeconds  \n",
       "0                       460.0  \n",
       "3                       460.0  \n",
       "4                       658.0  \n",
       "6                       668.0  \n",
       "2                       461.0  \n",
       "7                       663.0  \n",
       "1                       463.0  \n",
       "5                       672.0  "
      ]
     },
     "execution_count": 7,
     "metadata": {},
     "output_type": "execute_result"
    }
   ],
   "source": [
    "from sagemaker.analytics import HyperparameterTuningJobAnalytics\n",
    "\n",
    "exp = HyperparameterTuningJobAnalytics(\n",
    "  hyperparameter_tuning_job_name='pytorch-training-240801-1924')\n",
    "\n",
    "jobs = exp.dataframe()\n",
    "\n",
    "jobs.sort_values('FinalObjectiveValue', ascending=0)"
   ]
  },
  {
   "cell_type": "markdown",
   "metadata": {},
   "source": [
    "## Imp: If kernel dies, how to continue from a completed training job"
   ]
  },
  {
   "cell_type": "code",
   "execution_count": 8,
   "metadata": {},
   "outputs": [],
   "source": [
    "#BetterTrainingJobName='pytorch-training-210623-2156-001-fdd5e081'"
   ]
  },
  {
   "cell_type": "code",
   "execution_count": 9,
   "metadata": {},
   "outputs": [],
   "source": [
    "#my_estimator = sagemaker.estimator.Estimator.attach(BetterTrainingJobName)\n"
   ]
  },
  {
   "cell_type": "code",
   "execution_count": 10,
   "metadata": {},
   "outputs": [],
   "source": [
    "#my_estimator.hyperparameters()"
   ]
  },
  {
   "cell_type": "code",
   "execution_count": 11,
   "metadata": {},
   "outputs": [],
   "source": [
    "#best_estimator=my_estimator"
   ]
  },
  {
   "cell_type": "markdown",
   "metadata": {},
   "source": [
    "<h3>Prepare to perform Training on Best Estimator</h3>"
   ]
  },
  {
   "cell_type": "code",
   "execution_count": 12,
   "metadata": {},
   "outputs": [
    {
     "name": "stdout",
     "output_type": "stream",
     "text": [
      "\n",
      "2021-07-05 22:49:50 Starting - Preparing the instances for training\n",
      "2021-07-05 22:49:50 Downloading - Downloading input data\n",
      "2021-07-05 22:49:50 Training - Training image download completed. Training in progress.\n",
      "2021-07-05 22:49:50 Uploading - Uploading generated training model\n",
      "2021-07-05 22:49:50 Completed - Training job completed\n"
     ]
    }
   ],
   "source": [
    "best_estimator=tuner.best_estimator()"
   ]
  },
  {
   "cell_type": "code",
   "execution_count": 13,
   "metadata": {},
   "outputs": [
    {
     "data": {
      "text/plain": [
       "{'_tuning_objective_metric': '\"Test Loss\"',\n",
       " 'batch_size': '\"32\"',\n",
       " 'learning_rate': '0.0011427061709888163',\n",
       " 'sagemaker_container_log_level': '20',\n",
       " 'sagemaker_estimator_class_name': '\"PyTorch\"',\n",
       " 'sagemaker_estimator_module': '\"sagemaker.pytorch.estimator\"',\n",
       " 'sagemaker_job_name': '\"pytorch_dog_hpo-2021-07-05-22-28-32-653\"',\n",
       " 'sagemaker_program': '\"hpo.py\"',\n",
       " 'sagemaker_region': '\"us-east-1\"',\n",
       " 'sagemaker_submit_directory': '\"s3://sagemaker-us-east-1-503477914929/pytorch_dog_hpo-2021-07-05-22-28-32-653/source/sourcedir.tar.gz\"'}"
      ]
     },
     "execution_count": 13,
     "metadata": {},
     "output_type": "execute_result"
    }
   ],
   "source": [
    "best_estimator.hyperparameters()"
   ]
  },
  {
   "cell_type": "code",
   "execution_count": 14,
   "metadata": {},
   "outputs": [
    {
     "data": {
      "text/plain": [
       "{'batch_size': 32, 'learning_rate': '0.0011427061709888163'}"
      ]
     },
     "execution_count": 14,
     "metadata": {},
     "output_type": "execute_result"
    }
   ],
   "source": [
    "hyperparameters = {\"batch_size\": int(best_estimator.hyperparameters()['batch_size'].replace('\"', '')), \\\n",
    "                   \"learning_rate\": best_estimator.hyperparameters()['learning_rate']}\n",
    "hyperparameters"
   ]
  },
  {
   "cell_type": "code",
   "execution_count": 15,
   "metadata": {},
   "outputs": [],
   "source": [
    "rules = [\n",
    "    Rule.sagemaker(rule_configs.vanishing_gradient()),\n",
    "    Rule.sagemaker(rule_configs.overfit()),\n",
    "    Rule.sagemaker(rule_configs.overtraining()),\n",
    "    Rule.sagemaker(rule_configs.poor_weight_initialization()),\n",
    "    ProfilerRule.sagemaker(rule_configs.ProfilerReport()),\n",
    "]"
   ]
  },
  {
   "cell_type": "code",
   "execution_count": 16,
   "metadata": {},
   "outputs": [],
   "source": [
    "hook_config = DebuggerHookConfig(\n",
    "    hook_parameters={\n",
    "        \"train.save_interval\": \"1\",\n",
    "        \"eval.save_interval\": \"1\"\n",
    "    }\n",
    ")\n",
    "\n",
    "profiler_config = ProfilerConfig(\n",
    "    system_monitor_interval_millis=500, framework_profile_params=FrameworkProfile(num_steps=1)\n",
    ")"
   ]
  },
  {
   "cell_type": "markdown",
   "metadata": {},
   "source": [
    "<h2>Creating an Estimator</h2>"
   ]
  },
  {
   "cell_type": "code",
   "execution_count": 17,
   "metadata": {},
   "outputs": [],
   "source": [
    "#adjust this cell to accomplish multi-instance training\n",
    "estimator = PyTorch(\n",
    "    entry_point='hpo.py',\n",
    "    base_job_name='dog-pytorch',\n",
    "    role=role,\n",
    "    instance_count=1,\n",
    "    instance_type='ml.m5.xlarge',\n",
    "    framework_version='1.4.0',\n",
    "    py_version='py3',\n",
    "    hyperparameters=hyperparameters,\n",
    "    ## Debugger and Profiler parameters\n",
    "    rules = rules,\n",
    "    debugger_hook_config=hook_config,\n",
    "    profiler_config=profiler_config,\n",
    ")"
   ]
  },
  {
   "cell_type": "code",
   "execution_count": 18,
   "metadata": {},
   "outputs": [],
   "source": [
    "estimator.fit({\"training\": \"s3://udacitysolution/\"}, wait=False)"
   ]
  },
  {
   "cell_type": "markdown",
   "metadata": {},
   "source": [
    "<h2>Creating an Estimator - Multi-Instance Training,</h2>"
   ]
  },
  {
   "cell_type": "code",
   "execution_count": 19,
   "metadata": {},
   "outputs": [],
   "source": [
    "###in this cell, create and fit an estimator using multi-instance training\n"
   ]
  },
  {
   "cell_type": "markdown",
   "metadata": {},
   "source": [
    "<h2>Deployment</h2>"
   ]
  },
  {
   "cell_type": "code",
   "execution_count": 24,
   "metadata": {},
   "outputs": [],
   "source": [
    "model_location=estimator.model_data\n"
   ]
  },
  {
   "cell_type": "code",
   "execution_count": 9,
   "metadata": {},
   "outputs": [],
   "source": [
    "import sagemaker\n",
    "import boto3\n",
    "from sagemaker.tuner import CategoricalParameter, ContinuousParameter, HyperparameterTuner\n",
    "from sagemaker.pytorch import PyTorch\n",
    "from sagemaker import get_execution_role\n",
    "from sagemaker.debugger import Rule, DebuggerHookConfig, TensorBoardOutputConfig, CollectionConfig, ProfilerRule, rule_configs\n",
    "from sagemaker.debugger import ProfilerConfig, FrameworkProfile\n",
    "\n",
    "from sagemaker.pytorch import PyTorchModel\n",
    "from sagemaker.predictor import Predictor\n"
   ]
  },
  {
   "cell_type": "code",
   "execution_count": 12,
   "metadata": {},
   "outputs": [],
   "source": [
    "jpeg_serializer = sagemaker.serializers.IdentitySerializer(\"image/jpeg\")\n",
    "json_deserializer = sagemaker.deserializers.JSONDeserializer()\n",
    "\n",
    "\n",
    "class ImagePredictor(Predictor):\n",
    "    def __init__(self, endpoint_name, sagemaker_session):\n",
    "        super(ImagePredictor, self).__init__(\n",
    "            endpoint_name,\n",
    "            sagemaker_session=sagemaker_session,\n",
    "            serializer=jpeg_serializer,\n",
    "            deserializer=json_deserializer,\n",
    "        )"
   ]
  },
  {
   "cell_type": "code",
   "execution_count": 13,
   "metadata": {},
   "outputs": [
    {
     "name": "stdout",
     "output_type": "stream",
     "text": [
      "\n",
      "2024-08-01 23:41:02 Starting - Preparing the instances for training\n",
      "2024-08-01 23:41:02 Downloading - Downloading the training image\n",
      "2024-08-01 23:41:02 Training - Training image download completed. Training in progress.\n",
      "2024-08-01 23:41:02 Uploading - Uploading generated training model\n",
      "2024-08-01 23:41:02 Completed - Training job completed\n"
     ]
    }
   ],
   "source": [
    "# My model from before to skip steps\n",
    "\n",
    "current_job_name = 'pytorch-training-2024-08-01-23-18-00-161'\n",
    "sagemaker_session = sagemaker.Session()\n",
    "estimator = sagemaker.estimator.Estimator.attach(current_job_name, sagemaker_session=sagemaker_session)\n",
    "model_location=estimator.model_data"
   ]
  },
  {
   "cell_type": "code",
   "execution_count": 30,
   "metadata": {},
   "outputs": [],
   "source": [
    "pytorch_model = PyTorchModel(model_data=model_location, role=role, entry_point='infernce2.py',py_version='py3',\n",
    "                             framework_version='1.8',\n",
    "                             predictor_cls=ImagePredictor)"
   ]
  },
  {
   "cell_type": "code",
   "execution_count": 31,
   "metadata": {},
   "outputs": [
    {
     "name": "stdout",
     "output_type": "stream",
     "text": [
      "---------------!"
     ]
    }
   ],
   "source": [
    "predictor = pytorch_model.deploy(initial_instance_count=1, instance_type='ml.m5.large')\n"
   ]
  },
  {
   "cell_type": "code",
   "execution_count": 11,
   "metadata": {},
   "outputs": [
    {
     "name": "stdout",
     "output_type": "stream",
     "text": [
      "\n",
      "2024-08-01 23:41:02 Starting - Preparing the instances for training\n",
      "2024-08-01 23:41:02 Downloading - Downloading the training image\n",
      "2024-08-01 23:41:02 Training - Training image download completed. Training in progress.\n",
      "2024-08-01 23:41:02 Uploading - Uploading generated training model\n",
      "2024-08-01 23:41:02 Completed - Training job completed\n"
     ]
    }
   ],
   "source": []
  },
  {
   "cell_type": "code",
   "execution_count": null,
   "metadata": {},
   "outputs": [],
   "source": [
    "import requests\n",
    "#request_dict={ \"url\": \"https://cdn1-www.cattime.com/assets/uploads/2011/12/file_2744_british-shorthair-460x290-460x290.jpg\" }\n",
    "request_dict={ \"url\": \"https://s3.amazonaws.com/cdn-origin-etr.akc.org/wp-content/uploads/2017/11/20113314/Carolina-Dog-standing-outdoors.jpg\" }\n",
    "\n",
    "img_bytes = requests.get(request_dict['url']).content\n",
    "type(img_bytes)"
   ]
  },
  {
   "cell_type": "code",
   "execution_count": null,
   "metadata": {},
   "outputs": [],
   "source": [
    "from PIL import Image\n",
    "import io\n",
    "Image.open(io.BytesIO(img_bytes))"
   ]
  },
  {
   "cell_type": "code",
   "execution_count": null,
   "metadata": {},
   "outputs": [],
   "source": [
    "response=predictor.predict(img_bytes, initial_args={\"ContentType\": \"image/jpeg\"})"
   ]
  },
  {
   "cell_type": "code",
   "execution_count": null,
   "metadata": {},
   "outputs": [],
   "source": [
    "import json\n",
    "response2=predictor.predict(json.dumps(request_dict), initial_args={\"ContentType\": \"application/json\"})"
   ]
  },
  {
   "cell_type": "code",
   "execution_count": null,
   "metadata": {},
   "outputs": [],
   "source": [
    "type(response2[0][0])"
   ]
  },
  {
   "cell_type": "code",
   "execution_count": null,
   "metadata": {},
   "outputs": [],
   "source": [
    "response2[0]"
   ]
  },
  {
   "cell_type": "code",
   "execution_count": null,
   "metadata": {},
   "outputs": [],
   "source": [
    "import torch\n",
    "import numpy as np\n",
    "np.argmax(response, 1)"
   ]
  },
  {
   "cell_type": "code",
   "execution_count": null,
   "metadata": {},
   "outputs": [],
   "source": []
  }
 ],
 "metadata": {
  "instance_type": "ml.g4dn.xlarge",
  "kernelspec": {
   "display_name": "base",
   "language": "python",
   "name": "python3"
  },
  "language_info": {
   "codemirror_mode": {
    "name": "ipython",
    "version": 3
   },
   "file_extension": ".py",
   "mimetype": "text/x-python",
   "name": "python",
   "nbconvert_exporter": "python",
   "pygments_lexer": "ipython3",
   "version": "3.10.14"
  }
 },
 "nbformat": 4,
 "nbformat_minor": 4
}
