{
 "cells": [
  {
   "cell_type": "code",
   "execution_count": 2,
   "id": "d2a813e4",
   "metadata": {},
   "outputs": [
    {
     "name": "stdout",
     "output_type": "stream",
     "text": [
      "Using bucket sagemaker-us-east-2-348722577408\n"
     ]
    }
   ],
   "source": [
    "import datetime\n",
    "import time\n",
    "import tarfile\n",
    "\n",
    "import boto3\n",
    "import pandas as pd\n",
    "import numpy as np\n",
    "from sagemaker import get_execution_role\n",
    "import sagemaker\n",
    "from sklearn.model_selection import train_test_split\n",
    "from sklearn.datasets import fetch_california_housing\n",
    "\n",
    "sm_boto3 = boto3.client(\"sagemaker\")\n",
    "\n",
    "sess = sagemaker.Session()\n",
    "\n",
    "region = sess.boto_session.region_name\n",
    "\n",
    "bucket = sess.default_bucket()  # this could also be a hard-coded bucket name\n",
    "\n",
    "print(\"Using bucket \" + bucket)\n",
    "\n"
   ]
  },
  {
   "cell_type": "code",
   "execution_count": 3,
   "id": "4c49c4ce",
   "metadata": {},
   "outputs": [],
   "source": [
    "# we use the Boston housing dataset\n",
    "data = fetch_california_housing()"
   ]
  },
  {
   "cell_type": "code",
   "execution_count": 4,
   "id": "a8b55455",
   "metadata": {},
   "outputs": [],
   "source": [
    "X_train, X_test, y_train, y_test = train_test_split(\n",
    "    data.data, data.target, test_size=0.25, random_state=42\n",
    ")\n",
    "\n",
    "trainX = pd.DataFrame(X_train, columns=data.feature_names)\n",
    "trainX[\"target\"] = y_train\n",
    "\n",
    "testX = pd.DataFrame(X_test, columns=data.feature_names)\n",
    "testX[\"target\"] = y_test\n",
    "\n"
   ]
  },
  {
   "cell_type": "code",
   "execution_count": 5,
   "id": "774d1dc1",
   "metadata": {},
   "outputs": [],
   "source": [
    "trainX.head()\n",
    "\n",
    "trainX.to_csv(\"california_housing_train.csv\")\n",
    "testX.to_csv(\"california_housing_test.csv\")\n",
    "\n",
    "# send data to S3. SageMaker will take training data from s3\n",
    "trainpath = sess.upload_data(\n",
    "    path=\"california_housing_train.csv\", bucket=bucket, key_prefix=\"sagemaker/sklearncontainer\"\n",
    ")\n",
    "\n",
    "testpath = sess.upload_data(\n",
    "    path=\"california_housing_test.csv\", bucket=bucket, key_prefix=\"sagemaker/sklearncontainer\"\n",
    ")\n",
    "\n"
   ]
  },
  {
   "cell_type": "code",
   "execution_count": 8,
   "id": "bc35876e",
   "metadata": {},
   "outputs": [
    {
     "name": "stdout",
     "output_type": "stream",
     "text": [
      "Overwriting script.py\n"
     ]
    }
   ],
   "source": [
    "%%writefile script.py\n",
    "\n",
    "import argparse\n",
    "import joblib\n",
    "import os\n",
    "\n",
    "import numpy as np\n",
    "import pandas as pd\n",
    "from sklearn.ensemble import RandomForestRegressor\n",
    "\n",
    "\n",
    "# inference functions ---------------\n",
    "def model_fn(model_dir):\n",
    "    clf = joblib.load(os.path.join(model_dir, \"model.joblib\"))\n",
    "    return clf\n",
    "\n",
    "\n",
    "if __name__ == \"__main__\":\n",
    "\n",
    "    print(\"extracting arguments\")\n",
    "    parser = argparse.ArgumentParser()\n",
    "\n",
    "    # hyperparameters sent by the client are passed as command-line arguments to the script.\n",
    "    # to simplify the demo we don't use all sklearn RandomForest hyperparameters\n",
    "    parser.add_argument(\"--n-estimators\", type=int, default=10)\n",
    "    parser.add_argument(\"--min-samples-leaf\", type=int, default=3)\n",
    "\n",
    "    # Data, model, and output directories\n",
    "    parser.add_argument(\"--model-dir\", type=str, default=os.environ.get(\"SM_MODEL_DIR\"))\n",
    "    parser.add_argument(\"--train\", type=str, default=os.environ.get(\"SM_CHANNEL_TRAIN\"))\n",
    "    parser.add_argument(\"--test\", type=str, default=os.environ.get(\"SM_CHANNEL_TEST\"))\n",
    "    parser.add_argument(\"--train-file\", type=str, default=\"california_housing_train.csv\")\n",
    "    parser.add_argument(\"--test-file\", type=str, default=\"california_housing_test.csv\")\n",
    "    parser.add_argument(\n",
    "        \"--features\", type=str\n",
    "    )  # in this script we ask user to explicitly name features\n",
    "    parser.add_argument(\n",
    "        \"--target\", type=str\n",
    "    )  # in this script we ask user to explicitly name the target\n",
    "\n",
    "    args, _ = parser.parse_known_args()\n",
    "\n",
    "    print(\"reading data\")\n",
    "    train_df = pd.read_csv(os.path.join(args.train, args.train_file))\n",
    "    test_df = pd.read_csv(os.path.join(args.test, args.test_file))\n",
    "\n",
    "    print(\"building training and testing datasets\")\n",
    "    X_train = train_df[args.features.split()]\n",
    "    X_test = test_df[args.features.split()]\n",
    "    y_train = train_df[args.target]\n",
    "    y_test = test_df[args.target]\n",
    "\n",
    "    # train\n",
    "    print(\"training model\")\n",
    "    model = RandomForestRegressor(\n",
    "        n_estimators=args.n_estimators, min_samples_leaf=args.min_samples_leaf, n_jobs=-1\n",
    "    )\n",
    "\n",
    "    model.fit(X_train, y_train)\n",
    "\n",
    "    # print abs error\n",
    "    print(\"validating model\")\n",
    "    abs_err = np.abs(model.predict(X_test) - y_test)\n",
    "\n",
    "    # print couple perf metrics\n",
    "    for q in [10, 50, 90]:\n",
    "        print(\"AE-at-\" + str(q) + \"th-percentile: \" + str(np.percentile(a=abs_err, q=q)))\n",
    "\n",
    "    # persist model\n",
    "    path = os.path.join(args.model_dir, \"model.joblib\")\n",
    "    joblib.dump(model, path)\n",
    "    print(\"model persisted at \" + path)\n",
    "    print(args.min_samples_leaf)\n",
    "\n"
   ]
  },
  {
   "cell_type": "code",
   "execution_count": 9,
   "id": "951e9f4f",
   "metadata": {},
   "outputs": [
    {
     "name": "stdout",
     "output_type": "stream",
     "text": [
      "extracting arguments\n",
      "reading data\n",
      "building training and testing datasets\n",
      "training model\n",
      "validating model\n",
      "AE-at-10th-percentile: 0.03090791611399659\n",
      "AE-at-50th-percentile: 0.2081041777777778\n",
      "AE-at-90th-percentile: 0.7760247836904759\n",
      "model persisted at ./model.joblib\n",
      "2\n"
     ]
    }
   ],
   "source": [
    "! python script.py --n-estimators 100 \\\n",
    "                   --min-samples-leaf 2 \\\n",
    "                   --model-dir ./ \\\n",
    "                   --train ./ \\\n",
    "                   --test ./ \\\n",
    "                   --features 'MedInc HouseAge AveRooms AveBedrms Population AveOccup Latitude Longitude' \\\n",
    "                   --target target"
   ]
  },
  {
   "cell_type": "code",
   "execution_count": 11,
   "id": "c02d2993",
   "metadata": {},
   "outputs": [
    {
     "name": "stderr",
     "output_type": "stream",
     "text": [
      "INFO:sagemaker:Creating training-job with name: rf-scikit-2024-08-06-21-51-55-287\n"
     ]
    },
    {
     "name": "stdout",
     "output_type": "stream",
     "text": [
      "0.5963972769677639\n"
     ]
    }
   ],
   "source": [
    "# We use the Estimator from the SageMaker Python SDK\n",
    "from sagemaker.sklearn.estimator import SKLearn\n",
    "\n",
    "FRAMEWORK_VERSION = \"0.23-1\"\n",
    "\n",
    "sklearn_estimator = SKLearn(\n",
    "    entry_point=\"script.py\",\n",
    "    role=get_execution_role(),\n",
    "    instance_count=1,\n",
    "    instance_type=\"ml.m4.xlarge\",#\"ml.c5.xlarge\",#\"ml.m4.xlarge\",\n",
    "    framework_version=FRAMEWORK_VERSION,\n",
    "    base_job_name=\"rf-scikit\",\n",
    "    metric_definitions=[{\"Name\": \"median-AE\", \"Regex\": \"AE-at-50th-percentile: ([0-9.]+).*$\"}],\n",
    "    hyperparameters={\n",
    "        \"n-estimators\": 100,\n",
    "        \"min-samples-leaf\": 3,\n",
    "        \"features\": \"MedInc HouseAge AveRooms AveBedrms Population AveOccup Latitude Longitude\",\n",
    "        \"target\": \"target\",\n",
    "    },\n",
    ")\n",
    "\n",
    "import time\n",
    "# AttributeError: module 'time' has no attribute 'clock'\n",
    "tic = time.perf_counter()\n",
    "\n",
    "# launch training job, with asynchronous call\n",
    "sklearn_estimator.fit({\"train\": trainpath, \"test\": testpath}, wait=False)\n",
    "\n",
    "toc = time.perf_counter()\n",
    "print(toc - tic)"
   ]
  },
  {
   "cell_type": "code",
   "execution_count": 12,
   "id": "b7f115b4",
   "metadata": {},
   "outputs": [
    {
     "name": "stdout",
     "output_type": "stream",
     "text": [
      "\n",
      "2024-08-06 21:51:56 Starting - Starting the training job\n",
      "2024-08-06 21:52:11 Starting - Preparing the instances for training...\n",
      "2024-08-06 21:52:32 Downloading - Downloading input data.....\n",
      "2024-08-06 21:53:02 Downloading - Downloading the training image.......\n",
      "2024-08-06 21:53:43 Training - Training image download completed. Training in progress.....\n",
      "2024-08-06 21:54:08 Uploading - Uploading generated training model..\n",
      "2024-08-06 21:54:21 Completed - Training job completed\n",
      "Model artifact persisted at s3://sagemaker-us-east-2-348722577408/rf-scikit-2024-08-06-21-51-55-287/output/model.tar.gz\n"
     ]
    },
    {
     "name": "stderr",
     "output_type": "stream",
     "text": [
      "INFO:sagemaker:Creating model with name: sagemaker-scikit-learn-2024-08-06-21-54-26-103\n",
      "INFO:sagemaker:Creating endpoint-config with name sagemaker-scikit-learn-2024-08-06-21-54-26-748\n",
      "INFO:sagemaker:Creating endpoint with name sagemaker-scikit-learn-2024-08-06-21-54-26-748\n"
     ]
    },
    {
     "name": "stdout",
     "output_type": "stream",
     "text": [
      "-----!"
     ]
    }
   ],
   "source": [
    "sklearn_estimator.latest_training_job.wait(logs=\"None\")\n",
    "artifact = sm_boto3.describe_training_job(\n",
    "    TrainingJobName=sklearn_estimator.latest_training_job.name\n",
    ")[\"ModelArtifacts\"][\"S3ModelArtifacts\"]\n",
    "\n",
    "print(\"Model artifact persisted at \" + artifact)\n",
    "\n",
    "from sagemaker.sklearn.model import SKLearnModel\n",
    "\n",
    "model = SKLearnModel(\n",
    "    model_data=artifact,\n",
    "    role=get_execution_role(),\n",
    "    entry_point=\"script.py\",\n",
    "    framework_version=FRAMEWORK_VERSION,\n",
    ")\n",
    "\n",
    "predictor = model.deploy(instance_type=\"ml.c5.large\", initial_instance_count=1)\n",
    "\n"
   ]
  },
  {
   "cell_type": "code",
   "execution_count": 15,
   "id": "e7485fa0",
   "metadata": {},
   "outputs": [
    {
     "name": "stdout",
     "output_type": "stream",
     "text": [
      "[0.50000471 0.75208354 4.8725301  ... 1.26443213 2.91494589 4.0914444 ]\n",
      "[0.50000471 0.75208354 4.8725301  ... 1.26443213 2.91494589 4.0914444 ]\n",
      "[0.50000471 0.75208354 4.8725301  ... 1.26443213 2.91494589 4.0914444 ]\n",
      "[0.50000471 0.75208354 4.8725301  ... 1.26443213 2.91494589 4.0914444 ]\n",
      "[0.50000471 0.75208354 4.8725301  ... 1.26443213 2.91494589 4.0914444 ]\n",
      "[0.50000471 0.75208354 4.8725301  ... 1.26443213 2.91494589 4.0914444 ]\n",
      "[0.50000471 0.75208354 4.8725301  ... 1.26443213 2.91494589 4.0914444 ]\n",
      "[0.50000471 0.75208354 4.8725301  ... 1.26443213 2.91494589 4.0914444 ]\n",
      "[0.50000471 0.75208354 4.8725301  ... 1.26443213 2.91494589 4.0914444 ]\n",
      "[0.50000471 0.75208354 4.8725301  ... 1.26443213 2.91494589 4.0914444 ]\n",
      "[0.50000471 0.75208354 4.8725301  ... 1.26443213 2.91494589 4.0914444 ]\n",
      "[0.50000471 0.75208354 4.8725301  ... 1.26443213 2.91494589 4.0914444 ]\n",
      "[0.50000471 0.75208354 4.8725301  ... 1.26443213 2.91494589 4.0914444 ]\n",
      "[0.50000471 0.75208354 4.8725301  ... 1.26443213 2.91494589 4.0914444 ]\n",
      "[0.50000471 0.75208354 4.8725301  ... 1.26443213 2.91494589 4.0914444 ]\n",
      "[0.50000471 0.75208354 4.8725301  ... 1.26443213 2.91494589 4.0914444 ]\n",
      "[0.50000471 0.75208354 4.8725301  ... 1.26443213 2.91494589 4.0914444 ]\n",
      "[0.50000471 0.75208354 4.8725301  ... 1.26443213 2.91494589 4.0914444 ]\n",
      "[0.50000471 0.75208354 4.8725301  ... 1.26443213 2.91494589 4.0914444 ]\n",
      "[0.50000471 0.75208354 4.8725301  ... 1.26443213 2.91494589 4.0914444 ]\n",
      "[0.50000471 0.75208354 4.8725301  ... 1.26443213 2.91494589 4.0914444 ]\n",
      "[0.50000471 0.75208354 4.8725301  ... 1.26443213 2.91494589 4.0914444 ]\n",
      "[0.50000471 0.75208354 4.8725301  ... 1.26443213 2.91494589 4.0914444 ]\n",
      "[0.50000471 0.75208354 4.8725301  ... 1.26443213 2.91494589 4.0914444 ]\n",
      "[0.50000471 0.75208354 4.8725301  ... 1.26443213 2.91494589 4.0914444 ]\n",
      "[0.50000471 0.75208354 4.8725301  ... 1.26443213 2.91494589 4.0914444 ]\n",
      "[0.50000471 0.75208354 4.8725301  ... 1.26443213 2.91494589 4.0914444 ]\n",
      "[0.50000471 0.75208354 4.8725301  ... 1.26443213 2.91494589 4.0914444 ]\n",
      "[0.50000471 0.75208354 4.8725301  ... 1.26443213 2.91494589 4.0914444 ]\n",
      "[0.50000471 0.75208354 4.8725301  ... 1.26443213 2.91494589 4.0914444 ]\n",
      "[0.50000471 0.75208354 4.8725301  ... 1.26443213 2.91494589 4.0914444 ]\n",
      "[0.50000471 0.75208354 4.8725301  ... 1.26443213 2.91494589 4.0914444 ]\n",
      "[0.50000471 0.75208354 4.8725301  ... 1.26443213 2.91494589 4.0914444 ]\n",
      "[0.50000471 0.75208354 4.8725301  ... 1.26443213 2.91494589 4.0914444 ]\n",
      "[0.50000471 0.75208354 4.8725301  ... 1.26443213 2.91494589 4.0914444 ]\n",
      "[0.50000471 0.75208354 4.8725301  ... 1.26443213 2.91494589 4.0914444 ]\n",
      "[0.50000471 0.75208354 4.8725301  ... 1.26443213 2.91494589 4.0914444 ]\n",
      "[0.50000471 0.75208354 4.8725301  ... 1.26443213 2.91494589 4.0914444 ]\n",
      "[0.50000471 0.75208354 4.8725301  ... 1.26443213 2.91494589 4.0914444 ]\n",
      "[0.50000471 0.75208354 4.8725301  ... 1.26443213 2.91494589 4.0914444 ]\n",
      "[0.50000471 0.75208354 4.8725301  ... 1.26443213 2.91494589 4.0914444 ]\n",
      "[0.50000471 0.75208354 4.8725301  ... 1.26443213 2.91494589 4.0914444 ]\n",
      "[0.50000471 0.75208354 4.8725301  ... 1.26443213 2.91494589 4.0914444 ]\n",
      "[0.50000471 0.75208354 4.8725301  ... 1.26443213 2.91494589 4.0914444 ]\n",
      "[0.50000471 0.75208354 4.8725301  ... 1.26443213 2.91494589 4.0914444 ]\n",
      "[0.50000471 0.75208354 4.8725301  ... 1.26443213 2.91494589 4.0914444 ]\n",
      "[0.50000471 0.75208354 4.8725301  ... 1.26443213 2.91494589 4.0914444 ]\n",
      "[0.50000471 0.75208354 4.8725301  ... 1.26443213 2.91494589 4.0914444 ]\n",
      "[0.50000471 0.75208354 4.8725301  ... 1.26443213 2.91494589 4.0914444 ]\n",
      "[0.50000471 0.75208354 4.8725301  ... 1.26443213 2.91494589 4.0914444 ]\n",
      "[0.50000471 0.75208354 4.8725301  ... 1.26443213 2.91494589 4.0914444 ]\n",
      "[0.50000471 0.75208354 4.8725301  ... 1.26443213 2.91494589 4.0914444 ]\n",
      "[0.50000471 0.75208354 4.8725301  ... 1.26443213 2.91494589 4.0914444 ]\n",
      "[0.50000471 0.75208354 4.8725301  ... 1.26443213 2.91494589 4.0914444 ]\n",
      "[0.50000471 0.75208354 4.8725301  ... 1.26443213 2.91494589 4.0914444 ]\n",
      "[0.50000471 0.75208354 4.8725301  ... 1.26443213 2.91494589 4.0914444 ]\n",
      "[0.50000471 0.75208354 4.8725301  ... 1.26443213 2.91494589 4.0914444 ]\n",
      "[0.50000471 0.75208354 4.8725301  ... 1.26443213 2.91494589 4.0914444 ]\n",
      "[0.50000471 0.75208354 4.8725301  ... 1.26443213 2.91494589 4.0914444 ]\n",
      "[0.50000471 0.75208354 4.8725301  ... 1.26443213 2.91494589 4.0914444 ]\n",
      "[0.50000471 0.75208354 4.8725301  ... 1.26443213 2.91494589 4.0914444 ]\n",
      "[0.50000471 0.75208354 4.8725301  ... 1.26443213 2.91494589 4.0914444 ]\n",
      "[0.50000471 0.75208354 4.8725301  ... 1.26443213 2.91494589 4.0914444 ]\n",
      "[0.50000471 0.75208354 4.8725301  ... 1.26443213 2.91494589 4.0914444 ]\n",
      "[0.50000471 0.75208354 4.8725301  ... 1.26443213 2.91494589 4.0914444 ]\n",
      "[0.50000471 0.75208354 4.8725301  ... 1.26443213 2.91494589 4.0914444 ]\n",
      "[0.50000471 0.75208354 4.8725301  ... 1.26443213 2.91494589 4.0914444 ]\n",
      "[0.50000471 0.75208354 4.8725301  ... 1.26443213 2.91494589 4.0914444 ]\n",
      "[0.50000471 0.75208354 4.8725301  ... 1.26443213 2.91494589 4.0914444 ]\n",
      "[0.50000471 0.75208354 4.8725301  ... 1.26443213 2.91494589 4.0914444 ]\n",
      "[0.50000471 0.75208354 4.8725301  ... 1.26443213 2.91494589 4.0914444 ]\n",
      "[0.50000471 0.75208354 4.8725301  ... 1.26443213 2.91494589 4.0914444 ]\n",
      "[0.50000471 0.75208354 4.8725301  ... 1.26443213 2.91494589 4.0914444 ]\n",
      "[0.50000471 0.75208354 4.8725301  ... 1.26443213 2.91494589 4.0914444 ]\n",
      "[0.50000471 0.75208354 4.8725301  ... 1.26443213 2.91494589 4.0914444 ]\n",
      "[0.50000471 0.75208354 4.8725301  ... 1.26443213 2.91494589 4.0914444 ]\n",
      "[0.50000471 0.75208354 4.8725301  ... 1.26443213 2.91494589 4.0914444 ]\n",
      "[0.50000471 0.75208354 4.8725301  ... 1.26443213 2.91494589 4.0914444 ]\n",
      "[0.50000471 0.75208354 4.8725301  ... 1.26443213 2.91494589 4.0914444 ]\n",
      "[0.50000471 0.75208354 4.8725301  ... 1.26443213 2.91494589 4.0914444 ]\n",
      "[0.50000471 0.75208354 4.8725301  ... 1.26443213 2.91494589 4.0914444 ]\n",
      "[0.50000471 0.75208354 4.8725301  ... 1.26443213 2.91494589 4.0914444 ]\n",
      "[0.50000471 0.75208354 4.8725301  ... 1.26443213 2.91494589 4.0914444 ]\n",
      "[0.50000471 0.75208354 4.8725301  ... 1.26443213 2.91494589 4.0914444 ]\n",
      "[0.50000471 0.75208354 4.8725301  ... 1.26443213 2.91494589 4.0914444 ]\n",
      "[0.50000471 0.75208354 4.8725301  ... 1.26443213 2.91494589 4.0914444 ]\n",
      "[0.50000471 0.75208354 4.8725301  ... 1.26443213 2.91494589 4.0914444 ]\n",
      "[0.50000471 0.75208354 4.8725301  ... 1.26443213 2.91494589 4.0914444 ]\n",
      "[0.50000471 0.75208354 4.8725301  ... 1.26443213 2.91494589 4.0914444 ]\n",
      "[0.50000471 0.75208354 4.8725301  ... 1.26443213 2.91494589 4.0914444 ]\n",
      "[0.50000471 0.75208354 4.8725301  ... 1.26443213 2.91494589 4.0914444 ]\n",
      "[0.50000471 0.75208354 4.8725301  ... 1.26443213 2.91494589 4.0914444 ]\n",
      "[0.50000471 0.75208354 4.8725301  ... 1.26443213 2.91494589 4.0914444 ]\n",
      "[0.50000471 0.75208354 4.8725301  ... 1.26443213 2.91494589 4.0914444 ]\n",
      "[0.50000471 0.75208354 4.8725301  ... 1.26443213 2.91494589 4.0914444 ]\n",
      "[0.50000471 0.75208354 4.8725301  ... 1.26443213 2.91494589 4.0914444 ]\n",
      "[0.50000471 0.75208354 4.8725301  ... 1.26443213 2.91494589 4.0914444 ]\n",
      "[0.50000471 0.75208354 4.8725301  ... 1.26443213 2.91494589 4.0914444 ]\n",
      "[0.50000471 0.75208354 4.8725301  ... 1.26443213 2.91494589 4.0914444 ]\n",
      "[0.50000471 0.75208354 4.8725301  ... 1.26443213 2.91494589 4.0914444 ]\n"
     ]
    }
   ],
   "source": [
    "for i in range(100):\n",
    "    # invoke endpoint\n",
    "    print(predictor.predict(testX[data.feature_names]))\n",
    "    "
   ]
  },
  {
   "cell_type": "code",
   "execution_count": 16,
   "id": "4c2a4e26",
   "metadata": {},
   "outputs": [
    {
     "data": {
      "text/plain": [
       "{'ResponseMetadata': {'RequestId': 'ddf2c20e-6220-4b17-9189-4afe1ab9cff2',\n",
       "  'HTTPStatusCode': 200,\n",
       "  'HTTPHeaders': {'x-amzn-requestid': 'ddf2c20e-6220-4b17-9189-4afe1ab9cff2',\n",
       "   'content-type': 'application/x-amz-json-1.1',\n",
       "   'date': 'Tue, 06 Aug 2024 22:09:32 GMT',\n",
       "   'content-length': '0'},\n",
       "  'RetryAttempts': 0}}"
      ]
     },
     "execution_count": 16,
     "metadata": {},
     "output_type": "execute_result"
    }
   ],
   "source": [
    "sm_boto3.delete_endpoint(EndpointName=predictor.endpoint_name)"
   ]
  },
  {
   "cell_type": "code",
   "execution_count": null,
   "id": "d3b824e2",
   "metadata": {},
   "outputs": [],
   "source": []
  }
 ],
 "metadata": {
  "kernelspec": {
   "display_name": "base",
   "language": "python",
   "name": "python3"
  },
  "language_info": {
   "codemirror_mode": {
    "name": "ipython",
    "version": 3
   },
   "file_extension": ".py",
   "mimetype": "text/x-python",
   "name": "python",
   "nbconvert_exporter": "python",
   "pygments_lexer": "ipython3",
   "version": "3.10.14"
  }
 },
 "nbformat": 4,
 "nbformat_minor": 5
}
