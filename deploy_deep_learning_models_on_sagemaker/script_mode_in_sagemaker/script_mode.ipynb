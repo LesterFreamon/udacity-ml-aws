{
 "cells": [
  {
   "cell_type": "markdown",
   "id": "0bc5231c",
   "metadata": {},
   "source": [
    "# Script Mode in SageMaker\n",
    "In this page, we will see how to use script mode in SageMaker to submit a training job.\n",
    "To do this we will need two files: our training script (present in `pytorch_mnist.py`) and the submission script (this jupyter notebook).\n",
    "\n",
    "First we need to import the things we will need:\n",
    "- `Pytorch`: This is the estimator we will use.\n",
    "- `get_execution_role`: We will need this to get the role when initialising our estimator"
   ]
  },
  {
   "cell_type": "markdown",
   "id": "fad2c99d",
   "metadata": {},
   "source": [
    "## `pytorch_mnist.py`\n",
    "<details>\n",
    "  <summary> Click here to see the full script code </summary>\n",
    "   \n",
    "``` python\n",
    "import argparse\n",
    "import torch\n",
    "import torch.nn as nn\n",
    "import torch.nn.functional as F\n",
    "import torch.optim as optim\n",
    "from torchvision import datasets, transforms\n",
    "\n",
    "class Net(nn.Module):\n",
    "    def __init__(self):\n",
    "        super(Net, self).__init__()\n",
    "        self.conv1 = nn.Conv2d(1, 32, 3, 1)\n",
    "        self.conv2 = nn.Conv2d(32, 64, 3, 1)\n",
    "        self.dropout1 = nn.Dropout(0.25)\n",
    "        self.dropout2 = nn.Dropout(0.5)\n",
    "        self.fc1 = nn.Linear(9216, 128)\n",
    "        self.fc2 = nn.Linear(128, 10)\n",
    "\n",
    "    def forward(self, x):\n",
    "        x = self.conv1(x)\n",
    "        x = F.relu(x)\n",
    "        x = self.conv2(x)\n",
    "        x = F.relu(x)\n",
    "        x = F.max_pool2d(x, 2)\n",
    "        x = self.dropout1(x)\n",
    "        x = torch.flatten(x, 1)\n",
    "        x = self.fc1(x)\n",
    "        x = F.relu(x)\n",
    "        x = self.dropout2(x)\n",
    "        x = self.fc2(x)\n",
    "        output = F.log_softmax(x, dim=1)\n",
    "        return output\n",
    "\n",
    "\n",
    "def train(model, train_loader, optimizer, epoch):\n",
    "    for batch_idx, (data, target) in enumerate(train_loader):\n",
    "        optimizer.zero_grad()\n",
    "        output = model(data)\n",
    "        loss = F.nll_loss(output, target)\n",
    "        loss.backward()\n",
    "        optimizer.step()\n",
    "        if batch_idx % 100 == 0:\n",
    "            print(\n",
    "                \"Train Epoch: {} [{}/{} ({:.0f}%)]\\tLoss: {:.6f}\".format(\n",
    "                    epoch,\n",
    "                    batch_idx * len(data),\n",
    "                    len(train_loader.dataset),\n",
    "                    100.0 * batch_idx / len(train_loader),\n",
    "                    loss.item(),\n",
    "                )\n",
    "            )\n",
    "\n",
    "\n",
    "def test(model, test_loader):\n",
    "    test_loss = 0\n",
    "    correct = 0\n",
    "    with torch.no_grad():\n",
    "        for data, target in test_loader:\n",
    "            output = model(data)\n",
    "            test_loss += F.nll_loss(output, target, reduction=\"sum\").item()  # sum up batch loss\n",
    "            pred = output.argmax(dim=1, keepdim=True)  # get the index of the max log-probability\n",
    "            correct += pred.eq(target.view_as(pred)).sum().item()\n",
    "\n",
    "    test_loss /= len(test_loader.dataset)\n",
    "\n",
    "    print(\n",
    "        \"\\nTest set: Average loss: {:.4f}, Accuracy: {}/{} ({:.0f}%)\\n\".format(\n",
    "            test_loss, correct, len(test_loader.dataset), 100.0 * correct / len(test_loader.dataset)\n",
    "        )\n",
    "    )\n",
    "\n",
    "\n",
    "def main():\n",
    "    # Training settings\n",
    "    parser = argparse.ArgumentParser(description=\"PyTorch MNIST Example\")\n",
    "    parser.add_argument(\n",
    "        \"--batch-size\",\n",
    "        type=int,\n",
    "        default=64,\n",
    "        metavar=\"N\",\n",
    "        help=\"input batch size for training (default: 64)\",\n",
    "    )\n",
    "    parser.add_argument(\n",
    "        \"--test-batch-size\",\n",
    "        type=int,\n",
    "        default=1000,\n",
    "        metavar=\"N\",\n",
    "        help=\"input batch size for testing (default: 1000)\",\n",
    "    )\n",
    "    parser.add_argument(\n",
    "        \"--epochs\",\n",
    "        type=int,\n",
    "        default=14,\n",
    "        metavar=\"N\",\n",
    "        help=\"number of epochs to train (default: 14)\",\n",
    "    )\n",
    "    parser.add_argument(\n",
    "        \"--lr\", type=float, default=1.0, metavar=\"LR\", help=\"learning rate (default: 1.0)\"\n",
    "    )\n",
    "    args = parser.parse_args()\n",
    "\n",
    "    train_kwargs = {\"batch_size\": args.batch_size}\n",
    "    test_kwargs = {\"batch_size\": args.test_batch_size}\n",
    "\n",
    "    transform = transforms.Compose(\n",
    "        [transforms.ToTensor(), transforms.Normalize((0.1307,), (0.3081,))]\n",
    "    )\n",
    "    dataset1 = datasets.MNIST(\"../data\", train=True, download=True, transform=transform)\n",
    "    dataset2 = datasets.MNIST(\"../data\", train=False, transform=transform)\n",
    "    train_loader = torch.utils.data.DataLoader(dataset1, **train_kwargs)\n",
    "    test_loader = torch.utils.data.DataLoader(dataset2, **test_kwargs)\n",
    "\n",
    "    model = Net()\n",
    "\n",
    "    optimizer = optim.Adadelta(model.parameters(), lr=args.lr)\n",
    "\n",
    "    for epoch in range(1, args.epochs + 1):\n",
    "        train(model, train_loader, optimizer, epoch)\n",
    "        test(model, test_loader)\n",
    "    \n",
    "    torch.save(model.state_dict(), \"mnist_cnn.pt\")\n",
    "\n",
    "\n",
    "if __name__ == \"__main__\":\n",
    "    main()\n",
    "```\n",
    "</details>"
   ]
  },
  {
   "cell_type": "code",
   "execution_count": null,
   "id": "b0af0255",
   "metadata": {},
   "outputs": [],
   "source": [
    "!pip install sagemaker -U"
   ]
  },
  {
   "cell_type": "code",
   "execution_count": 1,
   "id": "669e14f1",
   "metadata": {
    "execution": {
     "iopub.execute_input": "2021-06-01T00:12:54.236549Z",
     "iopub.status.busy": "2021-06-01T00:12:54.236025Z",
     "iopub.status.idle": "2021-06-01T00:12:54.311575Z",
     "shell.execute_reply": "2021-06-01T00:12:54.311163Z"
    },
    "papermill": {
     "duration": 0.101981,
     "end_time": "2021-06-01T00:12:54.311710",
     "exception": false,
     "start_time": "2021-06-01T00:12:54.209729",
     "status": "completed"
    },
    "tags": []
   },
   "outputs": [
    {
     "name": "stdout",
     "output_type": "stream",
     "text": [
      "sagemaker.config INFO - Not applying SDK defaults from location: /etc/xdg/sagemaker/config.yaml\n",
      "sagemaker.config INFO - Not applying SDK defaults from location: /home/sagemaker-user/.config/sagemaker/config.yaml\n"
     ]
    }
   ],
   "source": [
    "from sagemaker.pytorch import PyTorch\n",
    "from sagemaker import get_execution_role"
   ]
  },
  {
   "cell_type": "markdown",
   "id": "ba4ecb4e",
   "metadata": {},
   "source": [
    "Next we will create a dictionary containing our hyperparameters. These hyperparameters need to be taken as command-line arguments in your training script."
   ]
  },
  {
   "cell_type": "code",
   "execution_count": 2,
   "id": "d911643b",
   "metadata": {
    "execution": {
     "iopub.execute_input": "2021-06-01T00:12:54.404516Z",
     "iopub.status.busy": "2021-06-01T00:12:54.404049Z",
     "iopub.status.idle": "2021-06-01T00:12:54.406120Z",
     "shell.execute_reply": "2021-06-01T00:12:54.405743Z"
    },
    "papermill": {
     "duration": 0.027379,
     "end_time": "2021-06-01T00:12:54.406215",
     "exception": false,
     "start_time": "2021-06-01T00:12:54.378836",
     "status": "completed"
    },
    "tags": []
   },
   "outputs": [],
   "source": [
    "hyperparameters = {\"epochs\": \"2\", \"batch-size\": \"32\", \"test-batch-size\": \"100\", \"lr\": \"0.001\"}"
   ]
  },
  {
   "cell_type": "markdown",
   "id": "2e6f2d43",
   "metadata": {},
   "source": [
    "Next we will initialise our estimator. Here we need to specify the:\n",
    "- `entry_point`: The path of the training script\n",
    "- `base_job_name`: The name of the job\n",
    "- `instance_type`: The type of training instance you want to use\n",
    "- `instance_count`: The number of training instances to use\n",
    "- `framework_version`: The version of pytorch you want in your training instance\n",
    "- `py_version`: The version of Python you want in your training instance"
   ]
  },
  {
   "cell_type": "code",
   "execution_count": 5,
   "id": "c38c5d0f",
   "metadata": {
    "execution": {
     "iopub.execute_input": "2021-06-01T00:12:54.742240Z",
     "iopub.status.busy": "2021-06-01T00:12:54.741779Z",
     "iopub.status.idle": "2021-06-01T00:12:55.230825Z",
     "shell.execute_reply": "2021-06-01T00:12:55.230404Z"
    },
    "papermill": {
     "duration": 0.523246,
     "end_time": "2021-06-01T00:12:55.230932",
     "exception": false,
     "start_time": "2021-06-01T00:12:54.707686",
     "status": "completed"
    },
    "tags": []
   },
   "outputs": [],
   "source": [
    "estimator = PyTorch(\n",
    "    entry_point=\"pytorch_mnist.py\",\n",
    "    base_job_name=\"sagemaker-script-mode\",\n",
    "    role=get_execution_role(),\n",
    "    instance_count=1,\n",
    "    instance_type=\"ml.g5.2xlarge\",\n",
    "    hyperparameters=hyperparameters,\n",
    "    framework_version=\"1.8\",\n",
    "    py_version=\"py36\",\n",
    ")"
   ]
  },
  {
   "cell_type": "markdown",
   "id": "ee0d2ab7",
   "metadata": {},
   "source": [
    "Calling the `fit()` method will start training. By setting `wait=True`, this line will be blocking, meaning that the rest of the code will not run until the training job finishes."
   ]
  },
  {
   "cell_type": "code",
   "execution_count": 6,
   "id": "c9b190d0",
   "metadata": {
    "execution": {
     "iopub.execute_input": "2021-06-01T00:12:55.325134Z",
     "iopub.status.busy": "2021-06-01T00:12:55.324659Z",
     "iopub.status.idle": "2021-06-01T00:12:55.949963Z",
     "shell.execute_reply": "2021-06-01T00:12:55.949524Z"
    },
    "papermill": {
     "duration": 0.651289,
     "end_time": "2021-06-01T00:12:55.950072",
     "exception": false,
     "start_time": "2021-06-01T00:12:55.298783",
     "status": "completed"
    },
    "scrolled": true,
    "tags": []
   },
   "outputs": [
    {
     "name": "stderr",
     "output_type": "stream",
     "text": [
      "INFO:sagemaker.image_uris:image_uri is not presented, retrieving image_uri based on instance_type, framework etc.\n",
      "INFO:sagemaker:Creating training-job with name: sagemaker-script-mode-2024-07-30-19-53-34-777\n"
     ]
    },
    {
     "name": "stdout",
     "output_type": "stream",
     "text": [
      "2024-07-30 19:53:35 Starting - Starting the training job...\n",
      "2024-07-30 19:53:50 Starting - Preparing the instances for training...\n",
      "2024-07-30 19:54:32 Downloading - Downloading the training image...........................\n",
      "2024-07-30 19:59:04 Training - Training image download completed. Training in progress....bash: cannot set terminal process group (-1): Inappropriate ioctl for device\n",
      "bash: no job control in this shell\n",
      "2024-07-30 19:59:20,238 sagemaker-training-toolkit INFO     Imported framework sagemaker_pytorch_container.training\n",
      "2024-07-30 19:59:20,266 sagemaker_pytorch_container.training INFO     Block until all host DNS lookups succeed.\n",
      "2024-07-30 19:59:20,268 sagemaker_pytorch_container.training INFO     Invoking user training script.\n",
      "2024-07-30 19:59:20,507 sagemaker-training-toolkit INFO     Invoking user script\n",
      "Training Env:\n",
      "{\n",
      "    \"additional_framework_parameters\": {},\n",
      "    \"channel_input_dirs\": {},\n",
      "    \"current_host\": \"algo-1\",\n",
      "    \"framework_module\": \"sagemaker_pytorch_container.training:main\",\n",
      "    \"hosts\": [\n",
      "        \"algo-1\"\n",
      "    ],\n",
      "    \"hyperparameters\": {\n",
      "        \"batch-size\": \"32\",\n",
      "        \"epochs\": \"2\",\n",
      "        \"lr\": \"0.001\",\n",
      "        \"test-batch-size\": \"100\"\n",
      "    },\n",
      "    \"input_config_dir\": \"/opt/ml/input/config\",\n",
      "    \"input_data_config\": {},\n",
      "    \"input_dir\": \"/opt/ml/input\",\n",
      "    \"is_master\": true,\n",
      "    \"job_name\": \"sagemaker-script-mode-2024-07-30-19-53-34-777\",\n",
      "    \"log_level\": 20,\n",
      "    \"master_hostname\": \"algo-1\",\n",
      "    \"model_dir\": \"/opt/ml/model\",\n",
      "    \"module_dir\": \"s3://sagemaker-us-east-2-348722577408/sagemaker-script-mode-2024-07-30-19-53-34-777/source/sourcedir.tar.gz\",\n",
      "    \"module_name\": \"pytorch_mnist\",\n",
      "    \"network_interface_name\": \"eth0\",\n",
      "    \"num_cpus\": 8,\n",
      "    \"num_gpus\": 1,\n",
      "    \"output_data_dir\": \"/opt/ml/output/data\",\n",
      "    \"output_dir\": \"/opt/ml/output\",\n",
      "    \"output_intermediate_dir\": \"/opt/ml/output/intermediate\",\n",
      "    \"resource_config\": {\n",
      "        \"current_host\": \"algo-1\",\n",
      "        \"current_instance_type\": \"ml.g5.2xlarge\",\n",
      "        \"current_group_name\": \"homogeneousCluster\",\n",
      "        \"hosts\": [\n",
      "            \"algo-1\"\n",
      "        ],\n",
      "        \"instance_groups\": [\n",
      "            {\n",
      "                \"instance_group_name\": \"homogeneousCluster\",\n",
      "                \"instance_type\": \"ml.g5.2xlarge\",\n",
      "                \"hosts\": [\n",
      "                    \"algo-1\"\n",
      "                ]\n",
      "            }\n",
      "        ],\n",
      "        \"network_interface_name\": \"eth0\"\n",
      "    },\n",
      "    \"user_entry_point\": \"pytorch_mnist.py\"\n",
      "}\n",
      "Environment variables:\n",
      "SM_HOSTS=[\"algo-1\"]\n",
      "SM_NETWORK_INTERFACE_NAME=eth0\n",
      "SM_HPS={\"batch-size\":\"32\",\"epochs\":\"2\",\"lr\":\"0.001\",\"test-batch-size\":\"100\"}\n",
      "SM_USER_ENTRY_POINT=pytorch_mnist.py\n",
      "SM_FRAMEWORK_PARAMS={}\n",
      "SM_RESOURCE_CONFIG={\"current_group_name\":\"homogeneousCluster\",\"current_host\":\"algo-1\",\"current_instance_type\":\"ml.g5.2xlarge\",\"hosts\":[\"algo-1\"],\"instance_groups\":[{\"hosts\":[\"algo-1\"],\"instance_group_name\":\"homogeneousCluster\",\"instance_type\":\"ml.g5.2xlarge\"}],\"network_interface_name\":\"eth0\"}\n",
      "SM_INPUT_DATA_CONFIG={}\n",
      "SM_OUTPUT_DATA_DIR=/opt/ml/output/data\n",
      "SM_CHANNELS=[]\n",
      "SM_CURRENT_HOST=algo-1\n",
      "SM_MODULE_NAME=pytorch_mnist\n",
      "SM_LOG_LEVEL=20\n",
      "SM_FRAMEWORK_MODULE=sagemaker_pytorch_container.training:main\n",
      "SM_INPUT_DIR=/opt/ml/input\n",
      "SM_INPUT_CONFIG_DIR=/opt/ml/input/config\n",
      "SM_OUTPUT_DIR=/opt/ml/output\n",
      "SM_NUM_CPUS=8\n",
      "SM_NUM_GPUS=1\n",
      "SM_MODEL_DIR=/opt/ml/model\n",
      "SM_MODULE_DIR=s3://sagemaker-us-east-2-348722577408/sagemaker-script-mode-2024-07-30-19-53-34-777/source/sourcedir.tar.gz\n",
      "SM_TRAINING_ENV={\"additional_framework_parameters\":{},\"channel_input_dirs\":{},\"current_host\":\"algo-1\",\"framework_module\":\"sagemaker_pytorch_container.training:main\",\"hosts\":[\"algo-1\"],\"hyperparameters\":{\"batch-size\":\"32\",\"epochs\":\"2\",\"lr\":\"0.001\",\"test-batch-size\":\"100\"},\"input_config_dir\":\"/opt/ml/input/config\",\"input_data_config\":{},\"input_dir\":\"/opt/ml/input\",\"is_master\":true,\"job_name\":\"sagemaker-script-mode-2024-07-30-19-53-34-777\",\"log_level\":20,\"master_hostname\":\"algo-1\",\"model_dir\":\"/opt/ml/model\",\"module_dir\":\"s3://sagemaker-us-east-2-348722577408/sagemaker-script-mode-2024-07-30-19-53-34-777/source/sourcedir.tar.gz\",\"module_name\":\"pytorch_mnist\",\"network_interface_name\":\"eth0\",\"num_cpus\":8,\"num_gpus\":1,\"output_data_dir\":\"/opt/ml/output/data\",\"output_dir\":\"/opt/ml/output\",\"output_intermediate_dir\":\"/opt/ml/output/intermediate\",\"resource_config\":{\"current_group_name\":\"homogeneousCluster\",\"current_host\":\"algo-1\",\"current_instance_type\":\"ml.g5.2xlarge\",\"hosts\":[\"algo-1\"],\"instance_groups\":[{\"hosts\":[\"algo-1\"],\"instance_group_name\":\"homogeneousCluster\",\"instance_type\":\"ml.g5.2xlarge\"}],\"network_interface_name\":\"eth0\"},\"user_entry_point\":\"pytorch_mnist.py\"}\n",
      "SM_USER_ARGS=[\"--batch-size\",\"32\",\"--epochs\",\"2\",\"--lr\",\"0.001\",\"--test-batch-size\",\"100\"]\n",
      "SM_OUTPUT_INTERMEDIATE_DIR=/opt/ml/output/intermediate\n",
      "SM_HP_BATCH-SIZE=32\n",
      "SM_HP_EPOCHS=2\n",
      "SM_HP_LR=0.001\n",
      "SM_HP_TEST-BATCH-SIZE=100\n",
      "PYTHONPATH=/opt/ml/code:/opt/conda/bin:/opt/conda/lib/python36.zip:/opt/conda/lib/python3.6:/opt/conda/lib/python3.6/lib-dynload:/opt/conda/lib/python3.6/site-packages\n",
      "Invoking script with the following command:\n",
      "/opt/conda/bin/python3.6 pytorch_mnist.py --batch-size 32 --epochs 2 --lr 0.001 --test-batch-size 100\n",
      "Downloading http://yann.lecun.com/exdb/mnist/train-images-idx3-ubyte.gz\n",
      "Failed to download (trying next):\n",
      "HTTP Error 403: Forbidden\n",
      "Downloading https://ossci-datasets.s3.amazonaws.com/mnist/train-images-idx3-ubyte.gz\n",
      "Downloading https://ossci-datasets.s3.amazonaws.com/mnist/train-images-idx3-ubyte.gz to ../data/MNIST/raw/train-images-idx3-ubyte.gz\n",
      "Extracting ../data/MNIST/raw/train-images-idx3-ubyte.gz to ../data/MNIST/raw\n",
      "Downloading http://yann.lecun.com/exdb/mnist/train-labels-idx1-ubyte.gz\n",
      "Failed to download (trying next):\n",
      "HTTP Error 403: Forbidden\n",
      "Downloading https://ossci-datasets.s3.amazonaws.com/mnist/train-labels-idx1-ubyte.gz\n",
      "Downloading https://ossci-datasets.s3.amazonaws.com/mnist/train-labels-idx1-ubyte.gz to ../data/MNIST/raw/train-labels-idx1-ubyte.gz\n",
      "Extracting ../data/MNIST/raw/train-labels-idx1-ubyte.gz to ../data/MNIST/raw\n",
      "Downloading http://yann.lecun.com/exdb/mnist/t10k-images-idx3-ubyte.gz\n",
      "Failed to download (trying next):\n",
      "HTTP Error 403: Forbidden\n",
      "Downloading https://ossci-datasets.s3.amazonaws.com/mnist/t10k-images-idx3-ubyte.gz\n",
      "Downloading https://ossci-datasets.s3.amazonaws.com/mnist/t10k-images-idx3-ubyte.gz to ../data/MNIST/raw/t10k-images-idx3-ubyte.gz\n",
      "Extracting ../data/MNIST/raw/t10k-images-idx3-ubyte.gz to ../data/MNIST/raw\n",
      "Downloading http://yann.lecun.com/exdb/mnist/t10k-labels-idx1-ubyte.gz\n",
      "Failed to download (trying next):\n",
      "HTTP Error 403: Forbidden\n",
      "Downloading https://ossci-datasets.s3.amazonaws.com/mnist/t10k-labels-idx1-ubyte.gz\n",
      "Downloading https://ossci-datasets.s3.amazonaws.com/mnist/t10k-labels-idx1-ubyte.gz to ../data/MNIST/raw/t10k-labels-idx1-ubyte.gz\n",
      "Extracting ../data/MNIST/raw/t10k-labels-idx1-ubyte.gz to ../data/MNIST/raw\n",
      "Processing...\n",
      "Done!\n",
      "[2024-07-30 19:59:23.476 algo-1:27 INFO utils.py:27] RULE_JOB_STOP_SIGNAL_FILENAME: None\n",
      "[2024-07-30 19:59:23.512 algo-1:27 INFO profiler_config_parser.py:102] User has disabled profiler.\n",
      "[2024-07-30 19:59:23.512 algo-1:27 INFO json_config.py:91] Creating hook from json_config at /opt/ml/input/config/debughookconfig.json.\n",
      "[2024-07-30 19:59:23.512 algo-1:27 INFO hook.py:201] tensorboard_dir has not been set for the hook. SMDebug will not be exporting tensorboard summaries.\n",
      "[2024-07-30 19:59:23.513 algo-1:27 INFO hook.py:255] Saving to /opt/ml/output/tensors\n",
      "[2024-07-30 19:59:23.513 algo-1:27 INFO state_store.py:77] The checkpoint config file /opt/ml/input/config/checkpointconfig.json does not exist.\n",
      "[2024-07-30 19:59:23.856 algo-1:27 INFO hook.py:591] name:conv1.weight count_params:288\n",
      "[2024-07-30 19:59:23.856 algo-1:27 INFO hook.py:591] name:conv1.bias count_params:32\n",
      "[2024-07-30 19:59:23.856 algo-1:27 INFO hook.py:591] name:conv2.weight count_params:18432\n",
      "[2024-07-30 19:59:23.856 algo-1:27 INFO hook.py:591] name:conv2.bias count_params:64\n",
      "[2024-07-30 19:59:23.856 algo-1:27 INFO hook.py:591] name:fc1.weight count_params:1179648\n",
      "[2024-07-30 19:59:23.856 algo-1:27 INFO hook.py:591] name:fc1.bias count_params:128\n",
      "[2024-07-30 19:59:23.856 algo-1:27 INFO hook.py:591] name:fc2.weight count_params:1280\n",
      "[2024-07-30 19:59:23.856 algo-1:27 INFO hook.py:591] name:fc2.bias count_params:10\n",
      "[2024-07-30 19:59:23.856 algo-1:27 INFO hook.py:593] Total Trainable Params: 1199882\n",
      "[2024-07-30 19:59:23.856 algo-1:27 INFO hook.py:425] Monitoring the collections: losses\n",
      "[2024-07-30 19:59:23.857 algo-1:27 INFO hook.py:488] Hook is writing from the hook with pid: 27\n",
      "Train Epoch: 1 [0/60000 (0%)]#011Loss: 2.315751\n",
      "Train Epoch: 1 [3200/60000 (5%)]#011Loss: 2.273304\n",
      "Train Epoch: 1 [6400/60000 (11%)]#011Loss: 2.275085\n",
      "Train Epoch: 1 [9600/60000 (16%)]#011Loss: 2.237811\n",
      "Train Epoch: 1 [12800/60000 (21%)]#011Loss: 2.228379\n",
      "Train Epoch: 1 [16000/60000 (27%)]#011Loss: 2.175091\n",
      "Train Epoch: 1 [19200/60000 (32%)]#011Loss: 2.054386\n",
      "Train Epoch: 1 [22400/60000 (37%)]#011Loss: 2.016485\n",
      "Train Epoch: 1 [25600/60000 (43%)]#011Loss: 1.933362\n",
      "Train Epoch: 1 [28800/60000 (48%)]#011Loss: 1.748063\n",
      "Train Epoch: 1 [32000/60000 (53%)]#011Loss: 1.776052\n",
      "Train Epoch: 1 [35200/60000 (59%)]#011Loss: 1.849348\n",
      "Train Epoch: 1 [38400/60000 (64%)]#011Loss: 1.620708\n",
      "Train Epoch: 1 [41600/60000 (69%)]#011Loss: 1.563670\n",
      "Train Epoch: 1 [44800/60000 (75%)]#011Loss: 1.626134\n",
      "Train Epoch: 1 [48000/60000 (80%)]#011Loss: 1.432593\n",
      "Train Epoch: 1 [51200/60000 (85%)]#011Loss: 1.310014\n",
      "Train Epoch: 1 [54400/60000 (91%)]#011Loss: 1.328147\n",
      "Train Epoch: 1 [57600/60000 (96%)]#011Loss: 1.223821\n",
      "Test set: Average loss: 1.2209, Accuracy: 6938/10000 (69%)\n",
      "Train Epoch: 2 [0/60000 (0%)]#011Loss: 1.211250\n",
      "Train Epoch: 2 [3200/60000 (5%)]#011Loss: 1.213313\n",
      "Train Epoch: 2 [6400/60000 (11%)]#011Loss: 1.283107\n",
      "Train Epoch: 2 [9600/60000 (16%)]#011Loss: 1.170450\n",
      "Train Epoch: 2 [12800/60000 (21%)]#011Loss: 1.085084\n",
      "Train Epoch: 2 [16000/60000 (27%)]#011Loss: 1.267878\n",
      "Train Epoch: 2 [19200/60000 (32%)]#011Loss: 0.938460\n",
      "Train Epoch: 2 [22400/60000 (37%)]#011Loss: 0.901105\n",
      "Train Epoch: 2 [25600/60000 (43%)]#011Loss: 0.941551\n",
      "Train Epoch: 2 [28800/60000 (48%)]#011Loss: 0.745042\n",
      "Train Epoch: 2 [32000/60000 (53%)]#011Loss: 0.929464\n",
      "Train Epoch: 2 [35200/60000 (59%)]#011Loss: 0.875282\n",
      "Train Epoch: 2 [38400/60000 (64%)]#011Loss: 0.760670\n",
      "Train Epoch: 2 [41600/60000 (69%)]#011Loss: 0.930398\n",
      "Train Epoch: 2 [44800/60000 (75%)]#011Loss: 0.812536\n",
      "Train Epoch: 2 [48000/60000 (80%)]#011Loss: 0.695868\n",
      "Train Epoch: 2 [51200/60000 (85%)]#011Loss: 0.735413\n",
      "Train Epoch: 2 [54400/60000 (91%)]#011Loss: 0.548222\n",
      "Train Epoch: 2 [57600/60000 (96%)]#011Loss: 0.803018\n",
      "Test set: Average loss: 0.7139, Accuracy: 7908/10000 (79%)\n",
      "#015  0%|          | 0/9912422 [00:00<?, ?it/s]#015 64%|██████▍   | 6359040/9912422 [00:00<00:00, 63580910.55it/s]#0159913344it [00:00, 82979257.75it/s]                             \n",
      "#015  0%|          | 0/28881 [00:00<?, ?it/s]#01529696it [00:00, 2884597.87it/s]          \n",
      "#015  0%|          | 0/1648877 [00:00<?, ?it/s]#0151649664it [00:00, 19457632.00it/s]         \n",
      "#015  0%|          | 0/4542 [00:00<?, ?it/s]#0155120it [00:00, 12160156.56it/s]         \n",
      "/opt/conda/lib/python3.6/site-packages/torchvision/datasets/mnist.py:502: UserWarning: The given NumPy array is not writeable, and PyTorch does not support non-writeable tensors. This means you can write to the underlying (supposedly non-writeable) NumPy array using the tensor. You may want to copy the array to protect its data or make it writeable before converting it to a tensor. This type of warning will be suppressed for the rest of this program. (Triggered internally at  ../torch/csrc/utils/tensor_numpy.cpp:143.)\n",
      "  return torch.from_numpy(parsed.astype(m[2], copy=False)).view(*s)\n",
      "2024-07-30 20:01:20,012 sagemaker-training-toolkit INFO     Reporting training SUCCESS\n",
      "\n",
      "2024-07-30 20:01:33 Uploading - Uploading generated training model\n",
      "2024-07-30 20:01:33 Completed - Training job completed\n",
      "Training seconds: 432\n",
      "Billable seconds: 432\n"
     ]
    }
   ],
   "source": [
    "estimator.fit(wait=True)"
   ]
  },
  {
   "cell_type": "markdown",
   "id": "319832b3",
   "metadata": {},
   "source": [
    "Next you can see some of the details of the training like the job name, the hyperparameters used for training and the location where the trained model is saved."
   ]
  },
  {
   "cell_type": "code",
   "execution_count": 7,
   "id": "9da8791d",
   "metadata": {},
   "outputs": [
    {
     "data": {
      "text/plain": [
       "'sagemaker-script-mode'"
      ]
     },
     "execution_count": 7,
     "metadata": {},
     "output_type": "execute_result"
    }
   ],
   "source": [
    "estimator.base_job_name"
   ]
  },
  {
   "cell_type": "code",
   "execution_count": 8,
   "id": "f3a92252",
   "metadata": {},
   "outputs": [
    {
     "data": {
      "text/plain": [
       "{'epochs': '\"2\"',\n",
       " 'batch-size': '\"32\"',\n",
       " 'test-batch-size': '\"100\"',\n",
       " 'lr': '\"0.001\"',\n",
       " 'sagemaker_submit_directory': '\"s3://sagemaker-us-east-2-348722577408/sagemaker-script-mode-2024-07-30-19-53-34-777/source/sourcedir.tar.gz\"',\n",
       " 'sagemaker_program': '\"pytorch_mnist.py\"',\n",
       " 'sagemaker_container_log_level': '20',\n",
       " 'sagemaker_job_name': '\"sagemaker-script-mode-2024-07-30-19-53-34-777\"',\n",
       " 'sagemaker_region': '\"us-east-2\"'}"
      ]
     },
     "execution_count": 8,
     "metadata": {},
     "output_type": "execute_result"
    }
   ],
   "source": [
    "estimator.hyperparameters()"
   ]
  },
  {
   "cell_type": "code",
   "execution_count": 9,
   "id": "3cef81bb",
   "metadata": {},
   "outputs": [
    {
     "data": {
      "text/plain": [
       "'s3://sagemaker-us-east-2-348722577408/sagemaker-script-mode-2024-07-30-19-53-34-777/output/model.tar.gz'"
      ]
     },
     "execution_count": 9,
     "metadata": {},
     "output_type": "execute_result"
    }
   ],
   "source": [
    "estimator.model_data"
   ]
  },
  {
   "cell_type": "code",
   "execution_count": null,
   "id": "02f896d1",
   "metadata": {},
   "outputs": [],
   "source": []
  }
 ],
 "metadata": {
  "instance_type": "ml.t3.medium",
  "kernelspec": {
   "display_name": "base",
   "language": "python",
   "name": "python3"
  },
  "language_info": {
   "codemirror_mode": {
    "name": "ipython",
    "version": 3
   },
   "file_extension": ".py",
   "mimetype": "text/x-python",
   "name": "python",
   "nbconvert_exporter": "python",
   "pygments_lexer": "ipython3",
   "version": "3.10.14"
  },
  "papermill": {
   "default_parameters": {},
   "duration": 239.460793,
   "end_time": "2021-06-01T00:16:48.734820",
   "environment_variables": {},
   "exception": true,
   "input_path": "pytorch_script_change_smdebug.ipynb",
   "output_path": "/opt/ml/processing/output/pytorch_script_change_smdebug-2021-06-01-00-08-41.ipynb",
   "parameters": {
    "kms_key": "arn:aws:kms:us-west-2:521695447989:key/6e9984db-50cf-4c7e-926c-877ec47a8b25"
   },
   "start_time": "2021-06-01T00:12:49.274027",
   "version": "2.3.3"
  }
 },
 "nbformat": 4,
 "nbformat_minor": 5
}
