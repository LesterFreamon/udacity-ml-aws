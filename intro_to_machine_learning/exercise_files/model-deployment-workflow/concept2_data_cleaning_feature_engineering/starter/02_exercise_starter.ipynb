{
 "cells": [
  {
   "cell_type": "markdown",
   "id": "cd0efdab-cdff-4a3a-b93b-36b1cdb8a37c",
   "metadata": {},
   "source": [
    "# Exercise: Data Cleansing and Feature Engineering\n",
    "\n",
    "In this exercise, we'll be loading in a dataset that has some problems. In order for us to get it ready for our models, we will apply some of the technics we learned.\n",
    "\n",
    "Apply these changes to the `data.csv` dataset.\n",
    "1. Load `data.csv` into a dataframe.\n",
    "2. Output the table info to see if there are any null values.\n",
    "3. Remove all null values from the dataframe.\n",
    "4. Change the `date` column from an object to a `datetime64[ns]` type.\n",
    "5. Change the `weather` column to a category type.\n",
    "6. One hot encode the `date` column to year, month, and day.\n",
    "7. Normalized the columns from the `all_features` list so each feature has a zero mean.\n",
    "8. Create and save the cleaned dataframe, as well as the train/validation/test dataframes to CSV."
   ]
  },
  {
   "cell_type": "code",
   "id": "7d594dbd-6d8d-48cb-8782-f17ad6350f31",
   "metadata": {
    "ExecuteTime": {
     "end_time": "2024-05-03T19:44:16.182048Z",
     "start_time": "2024-05-03T19:44:16.178783Z"
    }
   },
   "source": [
    "import random\n",
    "from datetime import datetime\n",
    "import pandas as pd\n",
    "import numpy as np\n",
    "\n",
    "from sklearn.datasets import make_regression\n",
    "from sklearn.model_selection import train_test_split\n",
    "from sklearn.preprocessing import StandardScaler"
   ],
   "outputs": [],
   "execution_count": 20
  },
  {
   "cell_type": "code",
   "id": "b4c35bce-ef4c-4546-9a61-68965f179646",
   "metadata": {
    "ExecuteTime": {
     "end_time": "2024-05-03T19:44:16.681314Z",
     "start_time": "2024-05-03T19:44:16.675563Z"
    }
   },
   "source": [
    "# Reading the dataset created by 02_exercise_dataset_creation.ipynb\n",
    "df = pd.read_csv(\"data.csv\")"
   ],
   "outputs": [],
   "execution_count": 21
  },
  {
   "cell_type": "code",
   "id": "876d26d1-705e-423e-9a96-2116c042916d",
   "metadata": {
    "ExecuteTime": {
     "end_time": "2024-05-03T19:44:16.836605Z",
     "start_time": "2024-05-03T19:44:16.828304Z"
    }
   },
   "source": [
    "# Always good to check to see if the data looks right\n",
    "df.head()"
   ],
   "outputs": [
    {
     "data": {
      "text/plain": [
       "   feature0  feature1  feature2        date weather      target\n",
       "0  0.274647 -0.603620  0.688897  2021-01-01   sunny   41.269783\n",
       "1 -0.307691  0.269024 -0.566440  2021-01-01   sunny -147.974545\n",
       "2  0.477809 -0.060138  1.974100  2021-01-01  cloudy  204.597486\n",
       "3 -0.603840 -1.149554 -1.188424  2021-01-01  cloudy -119.535892\n",
       "4  0.104714  0.228053 -0.422315  2021-01-01  cloudy  -34.253007"
      ],
      "text/html": [
       "<div>\n",
       "<style scoped>\n",
       "    .dataframe tbody tr th:only-of-type {\n",
       "        vertical-align: middle;\n",
       "    }\n",
       "\n",
       "    .dataframe tbody tr th {\n",
       "        vertical-align: top;\n",
       "    }\n",
       "\n",
       "    .dataframe thead th {\n",
       "        text-align: right;\n",
       "    }\n",
       "</style>\n",
       "<table border=\"1\" class=\"dataframe\">\n",
       "  <thead>\n",
       "    <tr style=\"text-align: right;\">\n",
       "      <th></th>\n",
       "      <th>feature0</th>\n",
       "      <th>feature1</th>\n",
       "      <th>feature2</th>\n",
       "      <th>date</th>\n",
       "      <th>weather</th>\n",
       "      <th>target</th>\n",
       "    </tr>\n",
       "  </thead>\n",
       "  <tbody>\n",
       "    <tr>\n",
       "      <th>0</th>\n",
       "      <td>0.274647</td>\n",
       "      <td>-0.603620</td>\n",
       "      <td>0.688897</td>\n",
       "      <td>2021-01-01</td>\n",
       "      <td>sunny</td>\n",
       "      <td>41.269783</td>\n",
       "    </tr>\n",
       "    <tr>\n",
       "      <th>1</th>\n",
       "      <td>-0.307691</td>\n",
       "      <td>0.269024</td>\n",
       "      <td>-0.566440</td>\n",
       "      <td>2021-01-01</td>\n",
       "      <td>sunny</td>\n",
       "      <td>-147.974545</td>\n",
       "    </tr>\n",
       "    <tr>\n",
       "      <th>2</th>\n",
       "      <td>0.477809</td>\n",
       "      <td>-0.060138</td>\n",
       "      <td>1.974100</td>\n",
       "      <td>2021-01-01</td>\n",
       "      <td>cloudy</td>\n",
       "      <td>204.597486</td>\n",
       "    </tr>\n",
       "    <tr>\n",
       "      <th>3</th>\n",
       "      <td>-0.603840</td>\n",
       "      <td>-1.149554</td>\n",
       "      <td>-1.188424</td>\n",
       "      <td>2021-01-01</td>\n",
       "      <td>cloudy</td>\n",
       "      <td>-119.535892</td>\n",
       "    </tr>\n",
       "    <tr>\n",
       "      <th>4</th>\n",
       "      <td>0.104714</td>\n",
       "      <td>0.228053</td>\n",
       "      <td>-0.422315</td>\n",
       "      <td>2021-01-01</td>\n",
       "      <td>cloudy</td>\n",
       "      <td>-34.253007</td>\n",
       "    </tr>\n",
       "  </tbody>\n",
       "</table>\n",
       "</div>"
      ]
     },
     "execution_count": 22,
     "metadata": {},
     "output_type": "execute_result"
    }
   ],
   "execution_count": 22
  },
  {
   "cell_type": "code",
   "id": "983d07fa-dedb-49ab-99e6-c7313dfbe4a2",
   "metadata": {
    "ExecuteTime": {
     "end_time": "2024-05-03T19:44:16.948260Z",
     "start_time": "2024-05-03T19:44:16.943526Z"
    }
   },
   "source": [
    "# Output general info about the table, notice we have some null values in all of our features\n",
    "df.info()"
   ],
   "outputs": [
    {
     "name": "stdout",
     "output_type": "stream",
     "text": [
      "<class 'pandas.core.frame.DataFrame'>\n",
      "RangeIndex: 1000 entries, 0 to 999\n",
      "Data columns (total 6 columns):\n",
      " #   Column    Non-Null Count  Dtype  \n",
      "---  ------    --------------  -----  \n",
      " 0   feature0  997 non-null    float64\n",
      " 1   feature1  985 non-null    float64\n",
      " 2   feature2  991 non-null    float64\n",
      " 3   date      993 non-null    object \n",
      " 4   weather   989 non-null    object \n",
      " 5   target    1000 non-null   float64\n",
      "dtypes: float64(4), object(2)\n",
      "memory usage: 47.0+ KB\n"
     ]
    }
   ],
   "execution_count": 23
  },
  {
   "cell_type": "code",
   "id": "c58913e4-5fcf-48bc-af73-e5873455d833",
   "metadata": {
    "ExecuteTime": {
     "end_time": "2024-05-03T19:44:17.054763Z",
     "start_time": "2024-05-03T19:44:17.051757Z"
    }
   },
   "source": [
    "# Drop all null values\n",
    "df = df.dropna(axis=0)"
   ],
   "outputs": [],
   "execution_count": 24
  },
  {
   "metadata": {
    "ExecuteTime": {
     "end_time": "2024-05-03T19:44:17.175169Z",
     "start_time": "2024-05-03T19:44:17.169563Z"
    }
   },
   "cell_type": "code",
   "source": "df.info()",
   "id": "d3c1e700b4aa61a6",
   "outputs": [
    {
     "name": "stdout",
     "output_type": "stream",
     "text": [
      "<class 'pandas.core.frame.DataFrame'>\n",
      "Index: 957 entries, 0 to 999\n",
      "Data columns (total 6 columns):\n",
      " #   Column    Non-Null Count  Dtype  \n",
      "---  ------    --------------  -----  \n",
      " 0   feature0  957 non-null    float64\n",
      " 1   feature1  957 non-null    float64\n",
      " 2   feature2  957 non-null    float64\n",
      " 3   date      957 non-null    object \n",
      " 4   weather   957 non-null    object \n",
      " 5   target    957 non-null    float64\n",
      "dtypes: float64(4), object(2)\n",
      "memory usage: 52.3+ KB\n"
     ]
    }
   ],
   "execution_count": 25
  },
  {
   "cell_type": "code",
   "id": "1f6c1a2b-a26b-49e6-b526-6f52d410b669",
   "metadata": {
    "ExecuteTime": {
     "end_time": "2024-05-03T19:45:35.231185Z",
     "start_time": "2024-05-03T19:45:35.221984Z"
    }
   },
   "source": [
    "# Change the date column to a datetime\n",
    "df['date'] = pd.to_datetime(df['date'])\n",
    "# Change weather column to a category\n",
    "df['weather'] = df['weather'].astype('category')"
   ],
   "outputs": [],
   "execution_count": 31
  },
  {
   "cell_type": "code",
   "id": "6e9a2eab-de2a-4c77-aeac-8d41e7530e6e",
   "metadata": {
    "ExecuteTime": {
     "end_time": "2024-05-03T19:45:47.936808Z",
     "start_time": "2024-05-03T19:45:47.929374Z"
    }
   },
   "source": [
    "# Extract year, month, and day into separate columns\n",
    "df['year'] = df['date'].dt.year\n",
    "df['month'] = df['date'].dt.month\n",
    "df['day'] = df['date'].dt.day"
   ],
   "outputs": [],
   "execution_count": 34
  },
  {
   "cell_type": "code",
   "id": "872c7d73-bf58-45ef-ac6b-63e5836ad353",
   "metadata": {
    "ExecuteTime": {
     "end_time": "2024-05-03T19:46:49.697028Z",
     "start_time": "2024-05-03T19:46:49.691495Z"
    }
   },
   "source": [
    "# One hot encode the weather category to have individual features. Prefix with `weather`\n",
    "weather_one_hot_df = pd.get_dummies(df['weather'], prefix='weather')"
   ],
   "outputs": [],
   "execution_count": 35
  },
  {
   "cell_type": "code",
   "id": "14be65a4-047f-4d07-a62b-adda10571ea3",
   "metadata": {
    "ExecuteTime": {
     "end_time": "2024-05-03T19:46:56.416838Z",
     "start_time": "2024-05-03T19:46:56.411562Z"
    }
   },
   "source": [
    "# Add the one hot encoded values back to the df\n",
    "df[weather_one_hot_df.columns.to_list()] = weather_one_hot_df"
   ],
   "outputs": [],
   "execution_count": 36
  },
  {
   "metadata": {
    "ExecuteTime": {
     "end_time": "2024-05-03T19:47:05.215317Z",
     "start_time": "2024-05-03T19:47:05.202189Z"
    }
   },
   "cell_type": "code",
   "source": "df.head()",
   "id": "bea6f1db181bcc99",
   "outputs": [
    {
     "data": {
      "text/plain": [
       "   feature0  feature1  feature2       date weather      target  year  month  \\\n",
       "0  0.274647 -0.603620  0.688897 2021-01-01   sunny   41.269783  2021      1   \n",
       "1 -0.307691  0.269024 -0.566440 2021-01-01   sunny -147.974545  2021      1   \n",
       "2  0.477809 -0.060138  1.974100 2021-01-01  cloudy  204.597486  2021      1   \n",
       "3 -0.603840 -1.149554 -1.188424 2021-01-01  cloudy -119.535892  2021      1   \n",
       "4  0.104714  0.228053 -0.422315 2021-01-01  cloudy  -34.253007  2021      1   \n",
       "\n",
       "   day  weather_cloudy  weather_rainy  weather_sunny  \n",
       "0    1           False          False           True  \n",
       "1    1           False          False           True  \n",
       "2    1            True          False          False  \n",
       "3    1            True          False          False  \n",
       "4    1            True          False          False  "
      ],
      "text/html": [
       "<div>\n",
       "<style scoped>\n",
       "    .dataframe tbody tr th:only-of-type {\n",
       "        vertical-align: middle;\n",
       "    }\n",
       "\n",
       "    .dataframe tbody tr th {\n",
       "        vertical-align: top;\n",
       "    }\n",
       "\n",
       "    .dataframe thead th {\n",
       "        text-align: right;\n",
       "    }\n",
       "</style>\n",
       "<table border=\"1\" class=\"dataframe\">\n",
       "  <thead>\n",
       "    <tr style=\"text-align: right;\">\n",
       "      <th></th>\n",
       "      <th>feature0</th>\n",
       "      <th>feature1</th>\n",
       "      <th>feature2</th>\n",
       "      <th>date</th>\n",
       "      <th>weather</th>\n",
       "      <th>target</th>\n",
       "      <th>year</th>\n",
       "      <th>month</th>\n",
       "      <th>day</th>\n",
       "      <th>weather_cloudy</th>\n",
       "      <th>weather_rainy</th>\n",
       "      <th>weather_sunny</th>\n",
       "    </tr>\n",
       "  </thead>\n",
       "  <tbody>\n",
       "    <tr>\n",
       "      <th>0</th>\n",
       "      <td>0.274647</td>\n",
       "      <td>-0.603620</td>\n",
       "      <td>0.688897</td>\n",
       "      <td>2021-01-01</td>\n",
       "      <td>sunny</td>\n",
       "      <td>41.269783</td>\n",
       "      <td>2021</td>\n",
       "      <td>1</td>\n",
       "      <td>1</td>\n",
       "      <td>False</td>\n",
       "      <td>False</td>\n",
       "      <td>True</td>\n",
       "    </tr>\n",
       "    <tr>\n",
       "      <th>1</th>\n",
       "      <td>-0.307691</td>\n",
       "      <td>0.269024</td>\n",
       "      <td>-0.566440</td>\n",
       "      <td>2021-01-01</td>\n",
       "      <td>sunny</td>\n",
       "      <td>-147.974545</td>\n",
       "      <td>2021</td>\n",
       "      <td>1</td>\n",
       "      <td>1</td>\n",
       "      <td>False</td>\n",
       "      <td>False</td>\n",
       "      <td>True</td>\n",
       "    </tr>\n",
       "    <tr>\n",
       "      <th>2</th>\n",
       "      <td>0.477809</td>\n",
       "      <td>-0.060138</td>\n",
       "      <td>1.974100</td>\n",
       "      <td>2021-01-01</td>\n",
       "      <td>cloudy</td>\n",
       "      <td>204.597486</td>\n",
       "      <td>2021</td>\n",
       "      <td>1</td>\n",
       "      <td>1</td>\n",
       "      <td>True</td>\n",
       "      <td>False</td>\n",
       "      <td>False</td>\n",
       "    </tr>\n",
       "    <tr>\n",
       "      <th>3</th>\n",
       "      <td>-0.603840</td>\n",
       "      <td>-1.149554</td>\n",
       "      <td>-1.188424</td>\n",
       "      <td>2021-01-01</td>\n",
       "      <td>cloudy</td>\n",
       "      <td>-119.535892</td>\n",
       "      <td>2021</td>\n",
       "      <td>1</td>\n",
       "      <td>1</td>\n",
       "      <td>True</td>\n",
       "      <td>False</td>\n",
       "      <td>False</td>\n",
       "    </tr>\n",
       "    <tr>\n",
       "      <th>4</th>\n",
       "      <td>0.104714</td>\n",
       "      <td>0.228053</td>\n",
       "      <td>-0.422315</td>\n",
       "      <td>2021-01-01</td>\n",
       "      <td>cloudy</td>\n",
       "      <td>-34.253007</td>\n",
       "      <td>2021</td>\n",
       "      <td>1</td>\n",
       "      <td>1</td>\n",
       "      <td>True</td>\n",
       "      <td>False</td>\n",
       "      <td>False</td>\n",
       "    </tr>\n",
       "  </tbody>\n",
       "</table>\n",
       "</div>"
      ]
     },
     "execution_count": 38,
     "metadata": {},
     "output_type": "execute_result"
    }
   ],
   "execution_count": 38
  },
  {
   "cell_type": "code",
   "id": "e308dd03-13cc-4ced-be4b-2e47cb299b09",
   "metadata": {
    "ExecuteTime": {
     "end_time": "2024-05-03T19:47:01.525810Z",
     "start_time": "2024-05-03T19:47:01.517588Z"
    }
   },
   "source": [
    "# Verify now that are table info has no nulls and correct Dtypes\n",
    "df.info()"
   ],
   "outputs": [
    {
     "name": "stdout",
     "output_type": "stream",
     "text": [
      "<class 'pandas.core.frame.DataFrame'>\n",
      "Index: 957 entries, 0 to 999\n",
      "Data columns (total 12 columns):\n",
      " #   Column          Non-Null Count  Dtype         \n",
      "---  ------          --------------  -----         \n",
      " 0   feature0        957 non-null    float64       \n",
      " 1   feature1        957 non-null    float64       \n",
      " 2   feature2        957 non-null    float64       \n",
      " 3   date            957 non-null    datetime64[ns]\n",
      " 4   weather         957 non-null    category      \n",
      " 5   target          957 non-null    float64       \n",
      " 6   year            957 non-null    int32         \n",
      " 7   month           957 non-null    int32         \n",
      " 8   day             957 non-null    int32         \n",
      " 9   weather_cloudy  957 non-null    bool          \n",
      " 10  weather_rainy   957 non-null    bool          \n",
      " 11  weather_sunny   957 non-null    bool          \n",
      "dtypes: bool(3), category(1), datetime64[ns](1), float64(4), int32(3)\n",
      "memory usage: 59.9 KB\n"
     ]
    }
   ],
   "execution_count": 37
  },
  {
   "cell_type": "code",
   "id": "5b5f72f5-29eb-44bf-a2b4-388637dd95e5",
   "metadata": {
    "ExecuteTime": {
     "end_time": "2024-05-03T19:47:14.817879Z",
     "start_time": "2024-05-03T19:47:14.814002Z"
    }
   },
   "source": [
    "# These may change if you decided to call your columns different from above\n",
    "all_features = [\n",
    "    \"feature0\",\n",
    "    \"feature1\",\n",
    "    \"feature2\",\n",
    "    \"year\",\n",
    "    \"month\",\n",
    "    \"day\",\n",
    "    \"weather_cloudy\",\n",
    "    \"weather_rainy\",\n",
    "    \"weather_sunny\",\n",
    "]"
   ],
   "outputs": [],
   "execution_count": 39
  },
  {
   "cell_type": "code",
   "id": "186a7fea-ad0b-4687-92a5-1e728b79cbc0",
   "metadata": {
    "ExecuteTime": {
     "end_time": "2024-05-03T19:47:27.364766Z",
     "start_time": "2024-05-03T19:47:27.340781Z"
    }
   },
   "source": [
    "# Table summary, notice the mean to many of our tables are not zero.\n",
    "df.describe()"
   ],
   "outputs": [
    {
     "data": {
      "text/plain": [
       "         feature0    feature1    feature2                           date  \\\n",
       "count  957.000000  957.000000  957.000000                            957   \n",
       "mean    -0.029455   -0.045588   -0.000638  2021-02-14 05:34:02.633229056   \n",
       "min     -3.046143   -3.116857   -2.994613            2021-01-01 00:00:00   \n",
       "25%     -0.726712   -0.739936   -0.652761            2021-01-23 00:00:00   \n",
       "50%     -0.028529   -0.060138    0.021351            2021-02-14 00:00:00   \n",
       "75%      0.610379    0.596906    0.658802            2021-03-09 00:00:00   \n",
       "max      3.170975    2.929096    2.680571            2021-03-31 00:00:00   \n",
       "std      0.998751    0.965487    0.937174                            NaN   \n",
       "\n",
       "           target    year       month         day  \n",
       "count  957.000000   957.0  957.000000  957.000000  \n",
       "mean    -3.028100  2021.0    1.993730   15.451411  \n",
       "min   -295.609931  2021.0    1.000000    1.000000  \n",
       "25%    -72.708333  2021.0    1.000000    8.000000  \n",
       "50%     -3.855294  2021.0    2.000000   15.000000  \n",
       "75%     59.153780  2021.0    3.000000   23.000000  \n",
       "max    319.059199  2021.0    3.000000   31.000000  \n",
       "std     98.502515     0.0    0.830865    8.717497  "
      ],
      "text/html": [
       "<div>\n",
       "<style scoped>\n",
       "    .dataframe tbody tr th:only-of-type {\n",
       "        vertical-align: middle;\n",
       "    }\n",
       "\n",
       "    .dataframe tbody tr th {\n",
       "        vertical-align: top;\n",
       "    }\n",
       "\n",
       "    .dataframe thead th {\n",
       "        text-align: right;\n",
       "    }\n",
       "</style>\n",
       "<table border=\"1\" class=\"dataframe\">\n",
       "  <thead>\n",
       "    <tr style=\"text-align: right;\">\n",
       "      <th></th>\n",
       "      <th>feature0</th>\n",
       "      <th>feature1</th>\n",
       "      <th>feature2</th>\n",
       "      <th>date</th>\n",
       "      <th>target</th>\n",
       "      <th>year</th>\n",
       "      <th>month</th>\n",
       "      <th>day</th>\n",
       "    </tr>\n",
       "  </thead>\n",
       "  <tbody>\n",
       "    <tr>\n",
       "      <th>count</th>\n",
       "      <td>957.000000</td>\n",
       "      <td>957.000000</td>\n",
       "      <td>957.000000</td>\n",
       "      <td>957</td>\n",
       "      <td>957.000000</td>\n",
       "      <td>957.0</td>\n",
       "      <td>957.000000</td>\n",
       "      <td>957.000000</td>\n",
       "    </tr>\n",
       "    <tr>\n",
       "      <th>mean</th>\n",
       "      <td>-0.029455</td>\n",
       "      <td>-0.045588</td>\n",
       "      <td>-0.000638</td>\n",
       "      <td>2021-02-14 05:34:02.633229056</td>\n",
       "      <td>-3.028100</td>\n",
       "      <td>2021.0</td>\n",
       "      <td>1.993730</td>\n",
       "      <td>15.451411</td>\n",
       "    </tr>\n",
       "    <tr>\n",
       "      <th>min</th>\n",
       "      <td>-3.046143</td>\n",
       "      <td>-3.116857</td>\n",
       "      <td>-2.994613</td>\n",
       "      <td>2021-01-01 00:00:00</td>\n",
       "      <td>-295.609931</td>\n",
       "      <td>2021.0</td>\n",
       "      <td>1.000000</td>\n",
       "      <td>1.000000</td>\n",
       "    </tr>\n",
       "    <tr>\n",
       "      <th>25%</th>\n",
       "      <td>-0.726712</td>\n",
       "      <td>-0.739936</td>\n",
       "      <td>-0.652761</td>\n",
       "      <td>2021-01-23 00:00:00</td>\n",
       "      <td>-72.708333</td>\n",
       "      <td>2021.0</td>\n",
       "      <td>1.000000</td>\n",
       "      <td>8.000000</td>\n",
       "    </tr>\n",
       "    <tr>\n",
       "      <th>50%</th>\n",
       "      <td>-0.028529</td>\n",
       "      <td>-0.060138</td>\n",
       "      <td>0.021351</td>\n",
       "      <td>2021-02-14 00:00:00</td>\n",
       "      <td>-3.855294</td>\n",
       "      <td>2021.0</td>\n",
       "      <td>2.000000</td>\n",
       "      <td>15.000000</td>\n",
       "    </tr>\n",
       "    <tr>\n",
       "      <th>75%</th>\n",
       "      <td>0.610379</td>\n",
       "      <td>0.596906</td>\n",
       "      <td>0.658802</td>\n",
       "      <td>2021-03-09 00:00:00</td>\n",
       "      <td>59.153780</td>\n",
       "      <td>2021.0</td>\n",
       "      <td>3.000000</td>\n",
       "      <td>23.000000</td>\n",
       "    </tr>\n",
       "    <tr>\n",
       "      <th>max</th>\n",
       "      <td>3.170975</td>\n",
       "      <td>2.929096</td>\n",
       "      <td>2.680571</td>\n",
       "      <td>2021-03-31 00:00:00</td>\n",
       "      <td>319.059199</td>\n",
       "      <td>2021.0</td>\n",
       "      <td>3.000000</td>\n",
       "      <td>31.000000</td>\n",
       "    </tr>\n",
       "    <tr>\n",
       "      <th>std</th>\n",
       "      <td>0.998751</td>\n",
       "      <td>0.965487</td>\n",
       "      <td>0.937174</td>\n",
       "      <td>NaN</td>\n",
       "      <td>98.502515</td>\n",
       "      <td>0.0</td>\n",
       "      <td>0.830865</td>\n",
       "      <td>8.717497</td>\n",
       "    </tr>\n",
       "  </tbody>\n",
       "</table>\n",
       "</div>"
      ]
     },
     "execution_count": 40,
     "metadata": {},
     "output_type": "execute_result"
    }
   ],
   "execution_count": 40
  },
  {
   "cell_type": "code",
   "id": "f509c509-cb5e-4f23-ba8a-28bee937e2c7",
   "metadata": {
    "ExecuteTime": {
     "end_time": "2024-05-03T19:48:30.723802Z",
     "start_time": "2024-05-03T19:48:30.709377Z"
    }
   },
   "source": [
    "# Standarize feature values to have a zero mean\n",
    "scaler = StandardScaler()\n",
    "scaler.fit(df[all_features])\n",
    "df.loc[:, all_features] = scaler.transform(df[all_features]) "
   ],
   "outputs": [],
   "execution_count": 41
  },
  {
   "metadata": {
    "ExecuteTime": {
     "end_time": "2024-05-03T19:49:06.906084Z",
     "start_time": "2024-05-03T19:49:06.893160Z"
    }
   },
   "cell_type": "code",
   "source": "df.head()",
   "id": "57cf0837a2e73c7a",
   "outputs": [
    {
     "data": {
      "text/plain": [
       "   feature0  feature1  feature2       date weather      target  year  \\\n",
       "0  0.304641 -0.578283  0.736145 2021-01-01   sunny   41.269783     0   \n",
       "1 -0.278730  0.326029 -0.604048 2021-01-01   sunny -147.974545     0   \n",
       "2  0.508163 -0.015078  2.108222 2021-01-01  cloudy  204.597486     0   \n",
       "3 -0.575404 -1.144028 -1.268076 2021-01-01  cloudy -119.535892     0   \n",
       "4  0.134407  0.283571 -0.450180 2021-01-01  cloudy  -34.253007     0   \n",
       "\n",
       "      month       day  weather_cloudy  weather_rainy  weather_sunny  \n",
       "0 -1.196644 -1.658614       -0.693847      -0.441312       0.976249  \n",
       "1 -1.196644 -1.658614       -0.693847      -0.441312       0.976249  \n",
       "2 -1.196644 -1.658614        1.441239      -0.441312      -1.024329  \n",
       "3 -1.196644 -1.658614        1.441239      -0.441312      -1.024329  \n",
       "4 -1.196644 -1.658614        1.441239      -0.441312      -1.024329  "
      ],
      "text/html": [
       "<div>\n",
       "<style scoped>\n",
       "    .dataframe tbody tr th:only-of-type {\n",
       "        vertical-align: middle;\n",
       "    }\n",
       "\n",
       "    .dataframe tbody tr th {\n",
       "        vertical-align: top;\n",
       "    }\n",
       "\n",
       "    .dataframe thead th {\n",
       "        text-align: right;\n",
       "    }\n",
       "</style>\n",
       "<table border=\"1\" class=\"dataframe\">\n",
       "  <thead>\n",
       "    <tr style=\"text-align: right;\">\n",
       "      <th></th>\n",
       "      <th>feature0</th>\n",
       "      <th>feature1</th>\n",
       "      <th>feature2</th>\n",
       "      <th>date</th>\n",
       "      <th>weather</th>\n",
       "      <th>target</th>\n",
       "      <th>year</th>\n",
       "      <th>month</th>\n",
       "      <th>day</th>\n",
       "      <th>weather_cloudy</th>\n",
       "      <th>weather_rainy</th>\n",
       "      <th>weather_sunny</th>\n",
       "    </tr>\n",
       "  </thead>\n",
       "  <tbody>\n",
       "    <tr>\n",
       "      <th>0</th>\n",
       "      <td>0.304641</td>\n",
       "      <td>-0.578283</td>\n",
       "      <td>0.736145</td>\n",
       "      <td>2021-01-01</td>\n",
       "      <td>sunny</td>\n",
       "      <td>41.269783</td>\n",
       "      <td>0</td>\n",
       "      <td>-1.196644</td>\n",
       "      <td>-1.658614</td>\n",
       "      <td>-0.693847</td>\n",
       "      <td>-0.441312</td>\n",
       "      <td>0.976249</td>\n",
       "    </tr>\n",
       "    <tr>\n",
       "      <th>1</th>\n",
       "      <td>-0.278730</td>\n",
       "      <td>0.326029</td>\n",
       "      <td>-0.604048</td>\n",
       "      <td>2021-01-01</td>\n",
       "      <td>sunny</td>\n",
       "      <td>-147.974545</td>\n",
       "      <td>0</td>\n",
       "      <td>-1.196644</td>\n",
       "      <td>-1.658614</td>\n",
       "      <td>-0.693847</td>\n",
       "      <td>-0.441312</td>\n",
       "      <td>0.976249</td>\n",
       "    </tr>\n",
       "    <tr>\n",
       "      <th>2</th>\n",
       "      <td>0.508163</td>\n",
       "      <td>-0.015078</td>\n",
       "      <td>2.108222</td>\n",
       "      <td>2021-01-01</td>\n",
       "      <td>cloudy</td>\n",
       "      <td>204.597486</td>\n",
       "      <td>0</td>\n",
       "      <td>-1.196644</td>\n",
       "      <td>-1.658614</td>\n",
       "      <td>1.441239</td>\n",
       "      <td>-0.441312</td>\n",
       "      <td>-1.024329</td>\n",
       "    </tr>\n",
       "    <tr>\n",
       "      <th>3</th>\n",
       "      <td>-0.575404</td>\n",
       "      <td>-1.144028</td>\n",
       "      <td>-1.268076</td>\n",
       "      <td>2021-01-01</td>\n",
       "      <td>cloudy</td>\n",
       "      <td>-119.535892</td>\n",
       "      <td>0</td>\n",
       "      <td>-1.196644</td>\n",
       "      <td>-1.658614</td>\n",
       "      <td>1.441239</td>\n",
       "      <td>-0.441312</td>\n",
       "      <td>-1.024329</td>\n",
       "    </tr>\n",
       "    <tr>\n",
       "      <th>4</th>\n",
       "      <td>0.134407</td>\n",
       "      <td>0.283571</td>\n",
       "      <td>-0.450180</td>\n",
       "      <td>2021-01-01</td>\n",
       "      <td>cloudy</td>\n",
       "      <td>-34.253007</td>\n",
       "      <td>0</td>\n",
       "      <td>-1.196644</td>\n",
       "      <td>-1.658614</td>\n",
       "      <td>1.441239</td>\n",
       "      <td>-0.441312</td>\n",
       "      <td>-1.024329</td>\n",
       "    </tr>\n",
       "  </tbody>\n",
       "</table>\n",
       "</div>"
      ]
     },
     "execution_count": 43,
     "metadata": {},
     "output_type": "execute_result"
    }
   ],
   "execution_count": 43
  },
  {
   "cell_type": "code",
   "id": "ec9d3d96-714e-4d92-931e-77f56114b8b2",
   "metadata": {
    "ExecuteTime": {
     "end_time": "2024-05-03T19:48:37.525591Z",
     "start_time": "2024-05-03T19:48:37.508084Z"
    }
   },
   "source": [
    "# Verify our features we are using now all have zero mean\n",
    "df.describe()"
   ],
   "outputs": [
    {
     "data": {
      "text/plain": [
       "           feature0      feature1      feature2  \\\n",
       "count  9.570000e+02  9.570000e+02  9.570000e+02   \n",
       "mean  -1.484938e-17  2.598641e-17 -3.341110e-17   \n",
       "min   -3.022041e+00 -3.182722e+00 -3.196355e+00   \n",
       "25%   -6.984945e-01 -7.195453e-01 -6.962042e-01   \n",
       "50%    9.274150e-04 -1.507826e-02  2.347576e-02   \n",
       "75%    6.409693e-01  6.658094e-01  7.040158e-01   \n",
       "max    3.206108e+00  3.082632e+00  2.862448e+00   \n",
       "std    1.000523e+00  1.000523e+00  1.000523e+00   \n",
       "\n",
       "                                date      target   year       month  \\\n",
       "count                            957  957.000000  957.0  957.000000   \n",
       "mean   2021-02-14 05:34:02.633229056   -3.028100    0.0    0.000000   \n",
       "min              2021-01-01 00:00:00 -295.609931    0.0   -1.196644   \n",
       "25%              2021-01-23 00:00:00  -72.708333    0.0   -1.196644   \n",
       "50%              2021-02-14 00:00:00   -3.855294    0.0    0.007550   \n",
       "75%              2021-03-09 00:00:00   59.153780    0.0    1.211744   \n",
       "max              2021-03-31 00:00:00  319.059199    0.0    1.211744   \n",
       "std                              NaN   98.502515    0.0    1.000523   \n",
       "\n",
       "                day  weather_cloudy  weather_rainy  weather_sunny  \n",
       "count  9.570000e+02    9.570000e+02   9.570000e+02   9.570000e+02  \n",
       "mean  -1.781925e-16    7.053455e-17   1.484938e-17   1.243635e-16  \n",
       "min   -1.658614e+00   -6.938474e-01  -4.413123e-01  -1.024329e+00  \n",
       "25%   -8.552118e-01   -6.938474e-01  -4.413123e-01  -1.024329e+00  \n",
       "50%   -5.180921e-02   -6.938474e-01  -4.413123e-01   9.762485e-01  \n",
       "75%    8.663652e-01    1.441239e+00  -4.413123e-01   9.762485e-01  \n",
       "max    1.784540e+00    1.441239e+00   2.265969e+00   9.762485e-01  \n",
       "std    1.000523e+00    1.000523e+00   1.000523e+00   1.000523e+00  "
      ],
      "text/html": [
       "<div>\n",
       "<style scoped>\n",
       "    .dataframe tbody tr th:only-of-type {\n",
       "        vertical-align: middle;\n",
       "    }\n",
       "\n",
       "    .dataframe tbody tr th {\n",
       "        vertical-align: top;\n",
       "    }\n",
       "\n",
       "    .dataframe thead th {\n",
       "        text-align: right;\n",
       "    }\n",
       "</style>\n",
       "<table border=\"1\" class=\"dataframe\">\n",
       "  <thead>\n",
       "    <tr style=\"text-align: right;\">\n",
       "      <th></th>\n",
       "      <th>feature0</th>\n",
       "      <th>feature1</th>\n",
       "      <th>feature2</th>\n",
       "      <th>date</th>\n",
       "      <th>target</th>\n",
       "      <th>year</th>\n",
       "      <th>month</th>\n",
       "      <th>day</th>\n",
       "      <th>weather_cloudy</th>\n",
       "      <th>weather_rainy</th>\n",
       "      <th>weather_sunny</th>\n",
       "    </tr>\n",
       "  </thead>\n",
       "  <tbody>\n",
       "    <tr>\n",
       "      <th>count</th>\n",
       "      <td>9.570000e+02</td>\n",
       "      <td>9.570000e+02</td>\n",
       "      <td>9.570000e+02</td>\n",
       "      <td>957</td>\n",
       "      <td>957.000000</td>\n",
       "      <td>957.0</td>\n",
       "      <td>957.000000</td>\n",
       "      <td>9.570000e+02</td>\n",
       "      <td>9.570000e+02</td>\n",
       "      <td>9.570000e+02</td>\n",
       "      <td>9.570000e+02</td>\n",
       "    </tr>\n",
       "    <tr>\n",
       "      <th>mean</th>\n",
       "      <td>-1.484938e-17</td>\n",
       "      <td>2.598641e-17</td>\n",
       "      <td>-3.341110e-17</td>\n",
       "      <td>2021-02-14 05:34:02.633229056</td>\n",
       "      <td>-3.028100</td>\n",
       "      <td>0.0</td>\n",
       "      <td>0.000000</td>\n",
       "      <td>-1.781925e-16</td>\n",
       "      <td>7.053455e-17</td>\n",
       "      <td>1.484938e-17</td>\n",
       "      <td>1.243635e-16</td>\n",
       "    </tr>\n",
       "    <tr>\n",
       "      <th>min</th>\n",
       "      <td>-3.022041e+00</td>\n",
       "      <td>-3.182722e+00</td>\n",
       "      <td>-3.196355e+00</td>\n",
       "      <td>2021-01-01 00:00:00</td>\n",
       "      <td>-295.609931</td>\n",
       "      <td>0.0</td>\n",
       "      <td>-1.196644</td>\n",
       "      <td>-1.658614e+00</td>\n",
       "      <td>-6.938474e-01</td>\n",
       "      <td>-4.413123e-01</td>\n",
       "      <td>-1.024329e+00</td>\n",
       "    </tr>\n",
       "    <tr>\n",
       "      <th>25%</th>\n",
       "      <td>-6.984945e-01</td>\n",
       "      <td>-7.195453e-01</td>\n",
       "      <td>-6.962042e-01</td>\n",
       "      <td>2021-01-23 00:00:00</td>\n",
       "      <td>-72.708333</td>\n",
       "      <td>0.0</td>\n",
       "      <td>-1.196644</td>\n",
       "      <td>-8.552118e-01</td>\n",
       "      <td>-6.938474e-01</td>\n",
       "      <td>-4.413123e-01</td>\n",
       "      <td>-1.024329e+00</td>\n",
       "    </tr>\n",
       "    <tr>\n",
       "      <th>50%</th>\n",
       "      <td>9.274150e-04</td>\n",
       "      <td>-1.507826e-02</td>\n",
       "      <td>2.347576e-02</td>\n",
       "      <td>2021-02-14 00:00:00</td>\n",
       "      <td>-3.855294</td>\n",
       "      <td>0.0</td>\n",
       "      <td>0.007550</td>\n",
       "      <td>-5.180921e-02</td>\n",
       "      <td>-6.938474e-01</td>\n",
       "      <td>-4.413123e-01</td>\n",
       "      <td>9.762485e-01</td>\n",
       "    </tr>\n",
       "    <tr>\n",
       "      <th>75%</th>\n",
       "      <td>6.409693e-01</td>\n",
       "      <td>6.658094e-01</td>\n",
       "      <td>7.040158e-01</td>\n",
       "      <td>2021-03-09 00:00:00</td>\n",
       "      <td>59.153780</td>\n",
       "      <td>0.0</td>\n",
       "      <td>1.211744</td>\n",
       "      <td>8.663652e-01</td>\n",
       "      <td>1.441239e+00</td>\n",
       "      <td>-4.413123e-01</td>\n",
       "      <td>9.762485e-01</td>\n",
       "    </tr>\n",
       "    <tr>\n",
       "      <th>max</th>\n",
       "      <td>3.206108e+00</td>\n",
       "      <td>3.082632e+00</td>\n",
       "      <td>2.862448e+00</td>\n",
       "      <td>2021-03-31 00:00:00</td>\n",
       "      <td>319.059199</td>\n",
       "      <td>0.0</td>\n",
       "      <td>1.211744</td>\n",
       "      <td>1.784540e+00</td>\n",
       "      <td>1.441239e+00</td>\n",
       "      <td>2.265969e+00</td>\n",
       "      <td>9.762485e-01</td>\n",
       "    </tr>\n",
       "    <tr>\n",
       "      <th>std</th>\n",
       "      <td>1.000523e+00</td>\n",
       "      <td>1.000523e+00</td>\n",
       "      <td>1.000523e+00</td>\n",
       "      <td>NaN</td>\n",
       "      <td>98.502515</td>\n",
       "      <td>0.0</td>\n",
       "      <td>1.000523</td>\n",
       "      <td>1.000523e+00</td>\n",
       "      <td>1.000523e+00</td>\n",
       "      <td>1.000523e+00</td>\n",
       "      <td>1.000523e+00</td>\n",
       "    </tr>\n",
       "  </tbody>\n",
       "</table>\n",
       "</div>"
      ]
     },
     "execution_count": 42,
     "metadata": {},
     "output_type": "execute_result"
    }
   ],
   "execution_count": 42
  },
  {
   "cell_type": "code",
   "id": "05db4d76-f9e8-441e-8c80-5dc338d7188c",
   "metadata": {
    "ExecuteTime": {
     "end_time": "2024-05-03T19:49:33.667928Z",
     "start_time": "2024-05-03T19:49:33.662096Z"
    }
   },
   "source": [
    "# train: 0.8 | test: 0.2\n",
    "df_train, df_test = train_test_split(df, test_size=0.2, random_state=0)\n",
    "\n",
    "# train: 0.6 | validation: 0.2\n",
    "df_train, df_val = train_test_split(df_train, test_size=0.25, random_state=0)\n",
    "\n",
    "# Final dataset sizes: train: 0.6, validation: 0.2, text: 0.2,"
   ],
   "outputs": [],
   "execution_count": 44
  },
  {
   "cell_type": "code",
   "id": "fad18b68-9c2c-4375-b0f1-d6cf724a3ec7",
   "metadata": {
    "ExecuteTime": {
     "end_time": "2024-05-03T19:49:35.177855Z",
     "start_time": "2024-05-03T19:49:35.174707Z"
    }
   },
   "source": [
    "# Output each shape to confirm the size of train/validation/test\n",
    "print(f\"Train: {df_train.shape}\")\n",
    "print(f\"Validation: {df_val.shape}\")\n",
    "print(f\"Test: {df_test.shape}\")"
   ],
   "outputs": [
    {
     "name": "stdout",
     "output_type": "stream",
     "text": [
      "Train: (573, 12)\n",
      "Validation: (192, 12)\n",
      "Test: (192, 12)\n"
     ]
    }
   ],
   "execution_count": 45
  },
  {
   "cell_type": "code",
   "id": "ca37ecca-722c-428e-9035-897e67412d68",
   "metadata": {
    "ExecuteTime": {
     "end_time": "2024-05-03T19:51:16.813573Z",
     "start_time": "2024-05-03T19:51:16.770005Z"
    }
   },
   "source": [
    "# Save all clean data, and the train, validation, test data as csv\n",
    "df.to_csv('./processed_data.csv')\n",
    "df_train.to_csv('./processed_data_train.csv')\n",
    "df_val.to_csv('./processed_data_val.csv')\n",
    "df_test.to_csv('./processed_data_test.csv')"
   ],
   "outputs": [],
   "execution_count": 46
  },
  {
   "metadata": {},
   "cell_type": "code",
   "outputs": [],
   "execution_count": null,
   "source": "",
   "id": "235907835d81624a"
  }
 ],
 "metadata": {
  "kernelspec": {
   "display_name": "Python 3",
   "language": "python",
   "name": "python3"
  },
  "language_info": {
   "codemirror_mode": {
    "name": "ipython",
    "version": 3
   },
   "file_extension": ".py",
   "mimetype": "text/x-python",
   "name": "python",
   "nbconvert_exporter": "python",
   "pygments_lexer": "ipython3",
   "version": "3.7.9"
  }
 },
 "nbformat": 4,
 "nbformat_minor": 5
}
