{
 "cells": [
  {
   "cell_type": "markdown",
   "id": "d9520883-fb9c-42fd-8d73-d19e3a401c7f",
   "metadata": {},
   "source": [
    "Throughout this lesson, you've been trying different models on the same two datasets, wine and diabetes. Now, we're going to try our hand at accelerating this methodology by using AutoGluon. In this exercise, train two different AutonGluon models and see how they compare to previous iterations in exercise 1 and 2.\n",
    "\n",
    "You're tasked with completing the following steps:\n",
    "1. Load in the wine dataset from scikit learn.\n",
    "2. For the wine dataset, create a train and test split, 80% train / 20% test.\n",
    "3. Create a AutoGluon Classifier model with these hyper parameters:\n",
    "    1. time_limit: 120\n",
    "    2. presets: best_quality\n",
    "4. Output the model table summary\n",
    "5. Evaluate the trained model on the test dataset\n",
    "6. Load the diabetes dataset from scikit learn\n",
    "7. For the Diabetes dataset, create a train and test split, 80% train / 20% test.\n",
    "8. Create a AutoGluon Regression model with these hyper parameters:\n",
    "    1. eval_metric: r2\n",
    "    2. time_limit: 120\n",
    "    3. presets: best_quality\n",
    "9. Output the model table summary\n",
    "10. Evaluate the trained model on the test dataset"
   ]
  },
  {
   "cell_type": "markdown",
   "id": "8b0ac658-af67-4355-a789-147a1a98b7cd",
   "metadata": {},
   "source": [
    "## Setup"
   ]
  },
  {
   "cell_type": "markdown",
   "id": "dc846de2-0e72-4935-a786-ae65df4f2948",
   "metadata": {},
   "source": [
    "### Open up Sagemaker Studio"
   ]
  },
  {
   "cell_type": "markdown",
   "id": "4a4cbe42-87c5-4671-87e4-507764ad0ed4",
   "metadata": {},
   "source": [
    "1. Notebook should be using a `ml.t3.medium` instance (2 vCPU + 4 GiB)\n",
    "2. Notebook should be using kernal: `Python 3 (MXNet 1.8 Python 3.7 CPU Optimized)`"
   ]
  },
  {
   "cell_type": "code",
   "id": "d158af04-dd1d-4e26-8e63-e81de4e6bbfc",
   "metadata": {
    "ExecuteTime": {
     "end_time": "2024-05-07T20:33:02.116510Z",
     "start_time": "2024-05-07T20:30:37.121082Z"
    }
   },
   "source": [
    "!pip install -U pip\n",
    "!pip install -U setuptools wheel\n",
    "!pip install -U \"mxnet<2.0.0\" bokeh==2.0.1\n",
    "!pip install autogluon --no-cache-dir"
   ],
   "execution_count": 1,
   "outputs": []
  },
  {
   "cell_type": "code",
   "execution_count": null,
   "id": "6dfefd6d-ed7f-46e3-a0c0-befda8d6aa23",
   "metadata": {},
   "source": [
    "import numpy as np\n",
    "import pandas as pd\n",
    "from sklearn import datasets\n",
    "from sklearn.metrics import r2_score, accuracy_score\n",
    "from sklearn.model_selection import train_test_split\n",
    "from autogluon.tabular import TabularDataset, TabularPredictor"
   ],
   "outputs": []
  },
  {
   "cell_type": "markdown",
   "id": "66e6fd8c-df16-4109-a7a8-6c6ccb2cdf29",
   "metadata": {},
   "source": [
    "## AutoGluon Classifier"
   ]
  },
  {
   "cell_type": "code",
   "id": "fc9c70a0-c311-4cf7-befb-92641f071326",
   "metadata": {
    "ExecuteTime": {
     "end_time": "2024-05-07T20:33:02.363569Z",
     "start_time": "2024-05-07T20:33:02.122437Z"
    }
   },
   "source": [
    "# Load in the wine dataset\n",
    "wine = datasets.load_wine(as_frame=True)"
   ],
   "execution_count": 2,
   "outputs": []
  },
  {
   "cell_type": "code",
   "id": "2d674674-0c0f-4a2a-8d0a-c8b1fc4c11a0",
   "metadata": {
    "ExecuteTime": {
     "end_time": "2024-05-07T20:33:02.369112Z",
     "start_time": "2024-05-07T20:33:02.368903Z"
    }
   },
   "source": [
    "# Create the wine `data` dataset as a dataframe and name the columns with `feature_names`\n",
    "df = pd.DataFrame(wine['data'], columns=wine['feature_names'])\n",
    "\n",
    "# Include the target as well\n",
    "df['target'] = wine['target']"
   ],
   "execution_count": null,
   "outputs": []
  },
  {
   "cell_type": "code",
   "id": "75ee9c82-4e05-4952-8be9-7f823436d32b",
   "metadata": {
    "ExecuteTime": {
     "end_time": "2024-05-07T20:33:02.371908Z",
     "start_time": "2024-05-07T20:33:02.371386Z"
    }
   },
   "source": [
    "# Split your data with these ratios: train: 0.8 | test: 0.2\n",
    "df_train, df_test = train_test_split(df, test_size=0.2, random_state=42)"
   ],
   "execution_count": null,
   "outputs": []
  },
  {
   "cell_type": "code",
   "execution_count": null,
   "id": "7205ac08-20cd-48c5-a90e-44960f6d81f6",
   "metadata": {
    "tags": []
   },
   "source": [
    "# How does the model perform on the training dataset and default model parameters?\n",
    "# Using the hyperparameters in the requirements, is there improvement?\n",
    "# Remember we use the test dataset to score the model\n",
    "# No need to explicitly say this is a classifier, autogluon will pick it up\n",
    "predictor = TabularPredictor(label='target').fit(train_data=df_train, time_limit=40, presets='best_quality')"
   ],
   "outputs": []
  },
  {
   "cell_type": "code",
   "execution_count": null,
   "id": "46b15550-b62b-4a80-857e-12710eee9e73",
   "metadata": {
    "tags": []
   },
   "source": [
    "# Output the fit summary of the training run\n",
    "?"
   ],
   "outputs": []
  },
  {
   "cell_type": "code",
   "execution_count": null,
   "id": "373d5630-84b5-4fbb-9b9a-08871ec4fe98",
   "metadata": {},
   "source": [
    "# Evaluate the models performance on the test dataset\n",
    "performance = ?"
   ],
   "outputs": []
  },
  {
   "cell_type": "markdown",
   "id": "8614c377-9f5b-4a2a-bc3c-0a049413b6e5",
   "metadata": {},
   "source": [
    "## AutoGluon Regression"
   ]
  },
  {
   "cell_type": "code",
   "execution_count": null,
   "id": "6fe39b07-53b3-4576-b392-1a1df77b43f7",
   "metadata": {},
   "source": [
    "# Load in the diabetes dataset\n",
    "diabetes = ?"
   ],
   "outputs": []
  },
  {
   "cell_type": "code",
   "execution_count": null,
   "id": "e36b9530-5bcd-40b4-a1f0-e6ad32bac145",
   "metadata": {},
   "source": [
    "# Create the diabetes `data` dataset as a dataframe and name the columns with `feature_names`\n",
    "dfd = pd.DataFrame(?, columns=?)\n",
    "\n",
    "# Include the target as well\n",
    "dfd['target'] = ?"
   ],
   "outputs": []
  },
  {
   "cell_type": "code",
   "execution_count": null,
   "id": "85a9b895-00a5-48b9-951f-e36436255d5c",
   "metadata": {},
   "source": [
    "# Split your data with these ratios: train: 0.8 | test: 0.2\n",
    "dfd_train, dfd_test = ?"
   ],
   "outputs": []
  },
  {
   "cell_type": "code",
   "execution_count": null,
   "id": "1b0f9d06-9436-4a4e-988d-f0ad00b26e10",
   "metadata": {
    "tags": []
   },
   "source": [
    "# How does the model perform on the training dataset and default model parameters?\n",
    "# Using the hyperparameters in the requirements, is there improvement?\n",
    "# Remember we use the test dataset to score the model\n",
    "# No need to explicitly say this is a regression, autogluon will pick it up\n",
    "predictor = TabularPredictor(?).fit(?)"
   ],
   "outputs": []
  },
  {
   "cell_type": "code",
   "execution_count": null,
   "id": "1b09621b-9ce7-4889-bcf9-c9b8687438ef",
   "metadata": {
    "tags": []
   },
   "source": [
    "# Output the fit summary of the training run\n",
    "?"
   ],
   "outputs": []
  },
  {
   "cell_type": "code",
   "execution_count": null,
   "id": "98c39401-a8cb-4e6c-aabb-c318f384e423",
   "metadata": {},
   "source": [
    "# Evaluate the models performance on the test dataset\n",
    "performance = ?"
   ],
   "outputs": []
  }
 ],
 "metadata": {
  "kernelspec": {
   "display_name": "Python 3",
   "language": "python",
   "name": "python3"
  },
  "language_info": {
   "codemirror_mode": {
    "name": "ipython",
    "version": 3
   },
   "file_extension": ".py",
   "mimetype": "text/x-python",
   "name": "python",
   "nbconvert_exporter": "python",
   "pygments_lexer": "ipython3",
   "version": "3.7.9"
  }
 },
 "nbformat": 4,
 "nbformat_minor": 5
}
